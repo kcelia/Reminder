{
 "cells": [
  {
   "cell_type": "markdown",
   "id": "a5d01707",
   "metadata": {},
   "source": [
    "# Pipeline"
   ]
  },
  {
   "cell_type": "code",
   "execution_count": 20,
   "id": "2d515921",
   "metadata": {},
   "outputs": [],
   "source": [
    "from sklearn.svm import SVC\n",
    "from sklearn.pipeline import Pipeline\n",
    "from sklearn.preprocessing import MinMaxScaler\n",
    "from sklearn.datasets import load_breast_cancer\n",
    "from sklearn.model_selection import train_test_split\n",
    "from sklearn.model_selection import cross_val_score, GridSearchCV, train_test_split"
   ]
  },
  {
   "cell_type": "markdown",
   "id": "05d0eebf",
   "metadata": {},
   "source": [
    "### Simple example"
   ]
  },
  {
   "cell_type": "code",
   "execution_count": 16,
   "id": "4d34f945",
   "metadata": {},
   "outputs": [
    {
     "name": "stdout",
     "output_type": "stream",
     "text": [
      "Train Score: 0.98357\n",
      "Test Score:  0.97902\n"
     ]
    }
   ],
   "source": [
    "# Load dataset\n",
    "cancer = load_breast_cancer()\n",
    "# Split data\n",
    "X_train, X_test, y_train, y_test = train_test_split(cancer.data, cancer.target, random_state=42)\n",
    "# Normalize train data\n",
    "scaler = MinMaxScaler().fit(X_train)\n",
    "X_train_scaler = scaler.transform(X_train)\n",
    "# Normalize test data\n",
    "X_test_scaler = scaler.transform(X_test)\n",
    "# Model\n",
    "svm = SVC()\n",
    "svm.fit(X_train_scaler, y_train)\n",
    "print(f\"Train Score: {svm.score(X_train_scaler, y_train):.5f}\")\n",
    "print(f\"Test Score:  {svm.score(X_test_scaler, y_test):.5f}\")"
   ]
  },
  {
   "cell_type": "markdown",
   "id": "41d96d81",
   "metadata": {},
   "source": [
    "### Fuite de données"
   ]
  },
  {
   "cell_type": "code",
   "execution_count": 19,
   "id": "67bebc47",
   "metadata": {},
   "outputs": [
    {
     "name": "stdout",
     "output_type": "stream",
     "text": [
      "Best cross validation accuracy : 0.9788508891928865\n",
      "Best param : {'C': 1, 'gamma': 1}\n",
      "Test Accuracy score : 0.9790209790209791\n"
     ]
    }
   ],
   "source": [
    "param_grid = {'C': [0.001, 0.01, 0.1, 1, 10],\n",
    "              'gamma': [0.001, 0.01, 0.1, 1, 10]}\n",
    "\n",
    "grid = GridSearchCV(SVC(), param_grid=param_grid, cv=5)\n",
    "# <!> Big mistake : Nous nous sommes servis de tous les données d'apprentissage recalibrées pour la recherche sur grille\n",
    "# Pour chaque division dans la validation croisée, une certaines partie du jeu de données d'apprentissage original \n",
    "# va être déclarée comme étant TRAIN set et une autre comme étant TEST set de cette division\n",
    "# Dans ce cas --> Fuite d'information\n",
    "# Pour éviter ce problème, la division du jeu de données au cours de la validation croisée \n",
    "# devrait être effectuée avant tout prétraitement --> Utiliser un pipeline\n",
    "grid.fit(X_train_scaler, y_train)\n",
    "print(f\"Best cross validation accuracy : {grid.best_score_}\")\n",
    "print(f\"Best param : {grid.best_params_}\")\n",
    "print(f\"Test Accuracy score : {grid.score(X_test_scaler, y_test)}\")"
   ]
  },
  {
   "cell_type": "markdown",
   "id": "f64e7e67",
   "metadata": {},
   "source": [
    "## Pipeline\n",
    "\n",
    "Pipeline pour exprimer le flux de travail d'apprentissage.\n",
    "\n",
    "L'object Pipeline prend une liste d'étape. Chaque étape est un tuple."
   ]
  },
  {
   "cell_type": "code",
   "execution_count": null,
   "id": "53133e78",
   "metadata": {},
   "outputs": [],
   "source": [
    "pipe = Pipeline([(\"scaler\", MinMaxScaler), # Liste d'étape\n",
    "                 (\"svm\", SVC())])"
   ]
  },
  {
   "cell_type": "code",
   "execution_count": null,
   "id": "35f3134a",
   "metadata": {},
   "outputs": [],
   "source": []
  },
  {
   "cell_type": "code",
   "execution_count": null,
   "id": "a7e968b8",
   "metadata": {},
   "outputs": [],
   "source": []
  },
  {
   "cell_type": "code",
   "execution_count": null,
   "id": "eea8d5a4",
   "metadata": {},
   "outputs": [],
   "source": []
  }
 ],
 "metadata": {
  "kernelspec": {
   "display_name": "Python 3 (ipykernel)",
   "language": "python",
   "name": "python3"
  },
  "language_info": {
   "codemirror_mode": {
    "name": "ipython",
    "version": 3
   },
   "file_extension": ".py",
   "mimetype": "text/x-python",
   "name": "python",
   "nbconvert_exporter": "python",
   "pygments_lexer": "ipython3",
   "version": "3.8.12"
  }
 },
 "nbformat": 4,
 "nbformat_minor": 5
}
