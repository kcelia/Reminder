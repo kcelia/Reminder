{
 "cells": [
  {
   "cell_type": "code",
   "execution_count": 82,
   "id": "2cbc8ca1",
   "metadata": {},
   "outputs": [],
   "source": [
    "# imports\n",
    "import warnings\n",
    "warnings.filterwarnings('ignore')\n",
    "\n",
    "from sklearn.svm import SVC\n",
    "from collections import Counter\n",
    "from sklearn.decomposition import PCA\n",
    "from sklearn.ensemble import RandomForestClassifier\n",
    "from sklearn.pipeline import Pipeline, make_pipeline\n",
    "from sklearn.linear_model import Ridge, LogisticRegression\n",
    "from sklearn.datasets import load_breast_cancer, load_iris\n",
    "from sklearn.preprocessing import MinMaxScaler, StandardScaler\n",
    "from sklearn.model_selection import KFold, LeaveOneOut, ShuffleSplit\n",
    "from sklearn.model_selection import train_test_split, cross_val_score, GridSearchCV, train_test_split"
   ]
  },
  {
   "cell_type": "markdown",
   "id": "9fd3c221",
   "metadata": {},
   "source": [
    "# Cross validation\n",
    "\n",
    "Il existe plusieurs variantes de la VC dans Sklearn:"
   ]
  },
  {
   "cell_type": "code",
   "execution_count": 67,
   "id": "a2e71242",
   "metadata": {},
   "outputs": [
    {
     "data": {
      "text/plain": [
       "array([0, 0, 0, 0, 0, 0, 0, 0, 0, 0, 0, 0, 0, 0, 0, 0, 0, 0, 0, 0, 0, 0,\n",
       "       0, 0, 0, 0, 0, 0, 0, 0, 0, 0, 0, 0, 0, 0, 0, 0, 0, 0, 0, 0, 0, 0,\n",
       "       0, 0, 0, 0, 0, 0, 1, 1, 1, 1, 1, 1, 1, 1, 1, 1, 1, 1, 1, 1, 1, 1,\n",
       "       1, 1, 1, 1, 1, 1, 1, 1, 1, 1, 1, 1, 1, 1, 1, 1, 1, 1, 1, 1, 1, 1,\n",
       "       1, 1, 1, 1, 1, 1, 1, 1, 1, 1, 1, 1, 2, 2, 2, 2, 2, 2, 2, 2, 2, 2,\n",
       "       2, 2, 2, 2, 2, 2, 2, 2, 2, 2, 2, 2, 2, 2, 2, 2, 2, 2, 2, 2, 2, 2,\n",
       "       2, 2, 2, 2, 2, 2, 2, 2, 2, 2, 2, 2, 2, 2, 2, 2, 2, 2])"
      ]
     },
     "execution_count": 67,
     "metadata": {},
     "output_type": "execute_result"
    }
   ],
   "source": [
    "iris = load_iris()\n",
    "clf  = LogisticRegression()\n",
    "iris.target"
   ]
  },
  {
   "cell_type": "markdown",
   "id": "386e1d70",
   "metadata": {},
   "source": [
    "### 1.\tCross validation standard"
   ]
  },
  {
   "cell_type": "code",
   "execution_count": 52,
   "id": "01956cf6",
   "metadata": {},
   "outputs": [
    {
     "data": {
      "text/plain": [
       "(array([0.98, 0.96, 0.98]), 0.9733333333333333)"
      ]
     },
     "execution_count": 52,
     "metadata": {},
     "output_type": "execute_result"
    }
   ],
   "source": [
    "# By default, cv=3\n",
    "scores = cross_val_score(clf, iris.data, iris.target, cv=3)\n",
    "scores, scores.mean()"
   ]
  },
  {
   "cell_type": "markdown",
   "id": "29c40fc9",
   "metadata": {},
   "source": [
    "Ajuster le nombre de plis utilisé par _cross_val_score_ en utilisant le paramètre _cv_."
   ]
  },
  {
   "cell_type": "markdown",
   "id": "41c12e6b",
   "metadata": {},
   "source": [
    "### 2. Cross validation non stratifiée"
   ]
  },
  {
   "cell_type": "code",
   "execution_count": 60,
   "id": "a84de578",
   "metadata": {},
   "outputs": [
    {
     "data": {
      "text/plain": [
       "(array([1.        , 1.        , 0.86666667, 0.93333333, 0.83333333]),\n",
       " 0.9266666666666665)"
      ]
     },
     "execution_count": 60,
     "metadata": {},
     "output_type": "execute_result"
    }
   ],
   "source": [
    "# Chaque pli correspond à une des classes du jeu de donnée (il n'est pas possible d'apprendre quoi que ce soit)\n",
    "kfold = KFold(n_splits=3)\n",
    "scores = cross_val_score(clf, iris.data, iris.target, cv=kfold)\n",
    "scores, scores.mean()"
   ]
  },
  {
   "cell_type": "code",
   "execution_count": 70,
   "id": "4faec75d",
   "metadata": {},
   "outputs": [
    {
     "data": {
      "text/plain": [
       "(array([1.  , 0.92, 0.98]), 0.9666666666666667)"
      ]
     },
     "execution_count": 70,
     "metadata": {},
     "output_type": "execute_result"
    }
   ],
   "source": [
    "# Mélanger les échantillons\n",
    "kfold = KFold(n_splits=3, shuffle=True, random_state=42)\n",
    "scores = cross_val_score(clf, iris.data, iris.target, cv=kfold)\n",
    "scores, scores.mean()"
   ]
  },
  {
   "cell_type": "markdown",
   "id": "407210e9",
   "metadata": {},
   "source": [
    "## 3. Validation croisée leave-one-out\n",
    "- Pour chaque division, un seul point de donnée est choisi pour construire le jeu de test.\n",
    "- Processus tres coûteaux pour de grand jeu de données.\n",
    "- Bonne pour les données de petite taille."
   ]
  },
  {
   "cell_type": "code",
   "execution_count": 80,
   "id": "e7684a33",
   "metadata": {},
   "outputs": [
    {
     "name": "stdout",
     "output_type": "stream",
     "text": [
      "Dataset.size : 150\n",
      "Number of CV iterations : 150\n",
      "Mean accuracy : 0.97\n"
     ]
    }
   ],
   "source": [
    "loo = LeaveOneOut()\n",
    "scores = cross_val_score(clf, iris.data, iris.target, cv=loo)\n",
    "print(f\"Dataset.size : {len(iris.data)}\")\n",
    "print(f\"Number of CV iterations : {len(scores)}\")\n",
    "print(f\"Mean accuracy : {scores.mean():.2f}\")"
   ]
  },
  {
   "cell_type": "markdown",
   "id": "5cbd4944",
   "metadata": {},
   "source": [
    "### 4. Validation croisée shuffle-split\n",
    "\n",
    "- On échantillonne de manière aléatoire _train_size_ de données pour le trainset et _test_size_ pour le testset, _nsplit_ fois.\n",
    "- Cette méthode permet de contrôler le nombre d'itération indépendamment de la taille des jeux d'apprentissage et de test.\n",
    "- Permet d'utiliser une partie des données lors de chaque itération (ne couvre pas la totalité des échantillons).\n",
    "- Utile pour des jeux de données de grandes tailles."
   ]
  },
  {
   "cell_type": "code",
   "execution_count": 86,
   "id": "7dbb0a2f",
   "metadata": {},
   "outputs": [
    {
     "name": "stdout",
     "output_type": "stream",
     "text": [
      "Cross validation score : [0.96       0.98666667 0.98666667 0.94666667 0.94666667 0.96\n",
      " 0.96       0.96       0.97333333 0.96      ]\n",
      "Mean accuracy : 0.96\n"
     ]
    }
   ],
   "source": [
    "shuffle_split = ShuffleSplit(test_size=.5, train_size=.5, n_splits=10)\n",
    "scores = cross_val_score(clf, iris.data, iris.target, cv=shuffle_split)\n",
    "print(f\"Cross validation score : {scores}\")\n",
    "print(f\"Mean accuracy : {scores.mean():.2f}\")"
   ]
  },
  {
   "cell_type": "markdown",
   "id": "ece425db",
   "metadata": {},
   "source": [
    "### 5.Validation croisée avec group\n",
    "\n",
    "\n",
    "Les donnes offrent d’importantes similarités.\n",
    "Un groupe contient les données qui ne devraient pas être séparées lors de la création des jeux de d’apprentissage et test.\n",
    "Example : \n",
    "o\tToutes les expressions faciales d’une même personne\n",
    "o\tEchantillons du même patient\n"
   ]
  },
  {
   "cell_type": "code",
   "execution_count": null,
   "id": "cabe13ea",
   "metadata": {},
   "outputs": [],
   "source": []
  },
  {
   "cell_type": "markdown",
   "id": "6f84a0d5",
   "metadata": {},
   "source": [
    "# Pipeline\n",
    "\n",
    "Outil généraliste servant à chaîner et encapsuler plusieurs étapes de traitement dans un flux d'apprentissage automatique dans un seul object Python.\n",
    "\n",
    "Outil très utile pour éviter la fuite d'information lors de la validation croisée et la sélection de paramètres par recherche de grille.\n",
    "\n",
    "Pipeline permet d'écrire du code de manière plus succincte."
   ]
  },
  {
   "cell_type": "markdown",
   "id": "6dd2d3a1",
   "metadata": {},
   "source": [
    "## Naive example"
   ]
  },
  {
   "cell_type": "code",
   "execution_count": 2,
   "id": "cad50855",
   "metadata": {},
   "outputs": [
    {
     "name": "stdout",
     "output_type": "stream",
     "text": [
      "Train Score: 0.98357\n",
      "Test Score:  0.97902\n"
     ]
    }
   ],
   "source": [
    "# Load dataset\n",
    "cancer = load_breast_cancer()\n",
    "\n",
    "# Split data\n",
    "X_train, X_test, y_train, y_test = train_test_split(cancer.data, cancer.target, random_state=42)\n",
    "\n",
    "# Normalize train data\n",
    "scaler         = MinMaxScaler().fit(X_train)\n",
    "X_train_scaler = scaler.transform(X_train)\n",
    "\n",
    "# Normalize test data\n",
    "X_test_scaler = scaler.transform(X_test)\n",
    "\n",
    "# Model\n",
    "svm = SVC()\n",
    "\n",
    "# Fit the model\n",
    "svm.fit(X_train_scaler, y_train)\n",
    "\n",
    "# Scoring\n",
    "print(f\"Train Score: {svm.score(X_train_scaler, y_train):.5f}\")\n",
    "print(f\"Test Score:  {svm.score(X_test_scaler, y_test):.5f}\")"
   ]
  },
  {
   "cell_type": "markdown",
   "id": "45f9175a",
   "metadata": {},
   "source": [
    "### Fuite de données\n",
    "\n",
    "```Python\n",
    "grid = GridSearchCV(SVC(), param_grid=param_grid, cv=5)\n",
    "grid.fit(X_train_scaler, y_train)\n",
    "```\n",
    "Nous nous sommes servis de tous les données d'apprentissage recalibrées pour la recherche sur grille.\n",
    "\n",
    "Pour chaque division dans la validation croisée, une certaines partie du jeu de données d'apprentissage original va être déclarée comme étant TRAIN set et une autre comme étant TEST set de cette division.\n",
    "\n",
    "Dans ce cas $\\Rightarrow$ Fuite d'information\n",
    "\n",
    "Pour éviter ce problème, la division du jeu de données au cours de la validation croisée devrait être effectuée avant tout prétraitement $\\Rightarrow$ Utiliser un pipeline"
   ]
  },
  {
   "cell_type": "code",
   "execution_count": 3,
   "id": "12c16493",
   "metadata": {},
   "outputs": [
    {
     "name": "stdout",
     "output_type": "stream",
     "text": [
      "Best cross validation accuracy : 0.9788508891928865\n",
      "Best param : {'C': 1, 'gamma': 1}\n",
      "Test Accuracy score : 0.9790209790209791\n"
     ]
    }
   ],
   "source": [
    "param_grid = {'C': [0.001, 0.01, 0.1, 1, 10], 'gamma': [0.001, 0.01, 0.1, 1, 10]}\n",
    "\n",
    "grid = GridSearchCV(SVC(), param_grid=param_grid, cv=5)\n",
    "# <!> Big mistake \n",
    "grid.fit(X_train_scaler, y_train)\n",
    "print(f\"Best cross validation accuracy : {grid.best_score_}\")\n",
    "print(f\"Best param : {grid.best_params_}\")\n",
    "print(f\"Test Accuracy score : {grid.score(X_test_scaler, y_test)}\")"
   ]
  },
  {
   "cell_type": "markdown",
   "id": "3f87727f",
   "metadata": {},
   "source": [
    "# Pipeline\n",
    "\n",
    "Pipeline pour exprimer le flux de travail d'apprentissage.\n",
    "\n",
    "L'object Pipeline prend une liste d'étape et chaque étape est un tuple.\n",
    "\n",
    "La classe _Pipeline_ n'est pas restreinte au prétraitement et à la classification.\n",
    "\n",
    "Les conditions à respecter pour les estimateurs d'un pipeline sont:\n",
    "\n",
    "- Toutes les étapes (sauf la dernière) doivent comprendre les méthodes _fit_ et _transform_:\n",
    "    - _transform_ pour qu'ils soient capables de produire une nouvelle représentation des données qui pourra être utilisée dans l'étape suivante\n",
    "- La derniere étape doit comprendre de la fonction _fit_ mais pas forcement de la fonction _predict_\n",
    "\n",
    "Au cours de l'appel à Pipeline.fit, le pipeline appelle _fit_ puis _transform_ ou simplement _fit_transform_ sur chaque étape."
   ]
  },
  {
   "cell_type": "code",
   "execution_count": 4,
   "id": "63284400",
   "metadata": {},
   "outputs": [
    {
     "name": "stdout",
     "output_type": "stream",
     "text": [
      "Test Score: 0.97902\n"
     ]
    }
   ],
   "source": [
    "# Create pipeline\n",
    "pipe = Pipeline([(\"scaler\", MinMaxScaler()), (\"svm\", SVC())])\n",
    "\n",
    "# Fit pipeline\n",
    "pipe.fit(X_train, y_train)\n",
    "\n",
    "# Score \n",
    "print(f\"Test Score: {pipe.score(X_test, y_test):.5f}\")\n",
    "\n",
    "# Steps\n",
    "pipe.steps"
   ]
  },
  {
   "cell_type": "markdown",
   "id": "f0d46186",
   "metadata": {},
   "source": [
    "## Accéder aux attributs des étapes"
   ]
  },
  {
   "cell_type": "code",
   "execution_count": 6,
   "id": "70c5e689",
   "metadata": {},
   "outputs": [
    {
     "data": {
      "text/plain": [
       "{'scaler': MinMaxScaler(), 'svm': SVC()}"
      ]
     },
     "execution_count": 6,
     "metadata": {},
     "output_type": "execute_result"
    }
   ],
   "source": [
    "pipe.named_steps"
   ]
  },
  {
   "cell_type": "code",
   "execution_count": 7,
   "id": "f69fa651",
   "metadata": {},
   "outputs": [
    {
     "data": {
      "text/plain": [
       "SVC()"
      ]
     },
     "execution_count": 7,
     "metadata": {},
     "output_type": "execute_result"
    }
   ],
   "source": [
    "pipe.named_steps['svm']"
   ]
  },
  {
   "cell_type": "code",
   "execution_count": 8,
   "id": "7cebda64",
   "metadata": {},
   "outputs": [
    {
     "data": {
      "text/plain": [
       "1.0"
      ]
     },
     "execution_count": 8,
     "metadata": {},
     "output_type": "execute_result"
    }
   ],
   "source": [
    "pipe.named_steps['svm'].C"
   ]
  },
  {
   "cell_type": "markdown",
   "id": "44956d2c",
   "metadata": {},
   "source": [
    "## Pipeline dans des recherches sur grill\n",
    "\n",
    "La syntaxe à employer pour définir une grille dans un pipeline consiste à spécifier :\n",
    "\n",
    "Pour chaque paramètre **nom de l'étape __ non du paramètre exact concerné**.\n",
    "\n",
    "_MinMaxScaler_ est réajusté uniquement pour les données d'apprentissage et donc aucune information ne fuite du jeu de test.\n",
    "\n"
   ]
  },
  {
   "cell_type": "markdown",
   "id": "076892eb",
   "metadata": {},
   "source": [
    "## Method 1 : Pipeline (long)"
   ]
  },
  {
   "cell_type": "code",
   "execution_count": 9,
   "id": "840f138f",
   "metadata": {},
   "outputs": [
    {
     "name": "stdout",
     "output_type": "stream",
     "text": [
      "Best cross validation accuracy: 0.96944\n",
      "Test set score: 0.97902\n",
      "Best param validation accuracy: {'svm__C': 1, 'svm__gamma': 1}\n",
      "Best estimator:\n",
      "Pipeline(steps=[('scaler', MinMaxScaler()), ('svm', SVC(C=1, gamma=1))])\n"
     ]
    }
   ],
   "source": [
    "param_grid = {'svm__C': [0.001, 0.01, 0.1, 1],\n",
    "              'svm__gamma': [0.001, 0.01, 0.1, 1]}\n",
    "\n",
    "pipe = Pipeline([(\"scaler\", MinMaxScaler()), (\"svm\", SVC())])\n",
    "\n",
    "grid = GridSearchCV(pipe, param_grid=param_grid, cv=5, n_jobs=-1)\n",
    "\n",
    "grid.fit(X_train, y_train)\n",
    "\n",
    "print(f\"Best cross validation accuracy: {grid.best_score_:.5f}\")\n",
    "print(f\"Test set score: {grid.score(X_test, y_test):.5f}\")\n",
    "print(f\"Best param validation accuracy: {grid.best_params_}\")\n",
    "# Dans notre cas, grid.best_estimator_ est un pipeline avec 2 étapes\n",
    "print(f\"Best estimator:\\n{grid.best_estimator_}\")"
   ]
  },
  {
   "cell_type": "code",
   "execution_count": 10,
   "id": "00e2b447",
   "metadata": {},
   "outputs": [
    {
     "data": {
      "text/plain": [
       "SVC(C=1, gamma=1)"
      ]
     },
     "execution_count": 10,
     "metadata": {},
     "output_type": "execute_result"
    }
   ],
   "source": [
    "grid.best_estimator_.named_steps[\"svm\"]"
   ]
  },
  {
   "cell_type": "code",
   "execution_count": 11,
   "id": "8b506ce4",
   "metadata": {},
   "outputs": [
    {
     "data": {
      "text/plain": [
       "1"
      ]
     },
     "execution_count": 11,
     "metadata": {},
     "output_type": "execute_result"
    }
   ],
   "source": [
    "grid.best_estimator_.named_steps[\"svm\"].C"
   ]
  },
  {
   "cell_type": "markdown",
   "id": "d6a5fa8a",
   "metadata": {},
   "source": [
    "## Method 2 : Make_pipeline (short)"
   ]
  },
  {
   "cell_type": "code",
   "execution_count": 12,
   "id": "9ea95e48",
   "metadata": {},
   "outputs": [
    {
     "name": "stdout",
     "output_type": "stream",
     "text": [
      "[Pipeline] .... (step 1 of 3) Processing minmaxscaler-1, total=   0.0s\n",
      "[Pipeline] ............... (step 2 of 3) Processing pca, total=   0.0s\n",
      "[Pipeline] .... (step 3 of 3) Processing minmaxscaler-2, total=   0.0s\n",
      "Best cross validation accuracy: 0.96944\n",
      "Test set score: 0.97902\n",
      "Best param validation accuracy: {'svm__C': 1, 'svm__gamma': 1}\n",
      "Best estimator:\n",
      "Pipeline(steps=[('scaler', MinMaxScaler()), ('svm', SVC(C=1, gamma=1))])\n"
     ]
    },
    {
     "data": {
      "text/plain": [
       "[('minmaxscaler-1', MinMaxScaler()),\n",
       " ('pca', PCA(n_components=2)),\n",
       " ('minmaxscaler-2', MinMaxScaler())]"
      ]
     },
     "execution_count": 12,
     "metadata": {},
     "output_type": "execute_result"
    }
   ],
   "source": [
    "# MinMaxScaler ont été renommée, mais il est préférable d'utiliser la construction Pipeline \n",
    "# avec des noms explicites afin de rendre chaque étape plus explicite\n",
    "pipe = make_pipeline(MinMaxScaler(), PCA(n_components=2), MinMaxScaler(), verbose=True)\n",
    "\n",
    "pipe.fit(X_train, y_train)\n",
    "\n",
    "print(f\"Best cross validation accuracy: {grid.best_score_:.5f}\")\n",
    "print(f\"Test set score: {grid.score(X_test, y_test):.5f}\")\n",
    "print(f\"Best param validation accuracy: {grid.best_params_}\")\n",
    "# Dans notre cas, grid.best_estimator_ est un pipeline avec 2 étapes\n",
    "print(f\"Best estimator:\\n{grid.best_estimator_}\")\n",
    "# Steps\n",
    "pipe.steps"
   ]
  },
  {
   "cell_type": "code",
   "execution_count": 13,
   "id": "ac4ccc76",
   "metadata": {},
   "outputs": [
    {
     "name": "stdout",
     "output_type": "stream",
     "text": [
      "Best cross validation accuracy: 0.70815\n",
      "Test set score: 0.75317\n",
      "Best param validation accuracy: {'ridge__alpha': 0.1}\n",
      "Best estimator:\n",
      "Pipeline(steps=[('minmaxscaler', MinMaxScaler()), ('ridge', Ridge(alpha=0.1))])\n"
     ]
    }
   ],
   "source": [
    "param_grid = {'ridge__alpha': [0.001, 0.01, 0.1, 1]}\n",
    "\n",
    "pipe = make_pipeline(MinMaxScaler(), Ridge(), verbose=False)\n",
    "\n",
    "grid = GridSearchCV(pipe, param_grid=param_grid, cv=5, n_jobs=-1)\n",
    "\n",
    "grid.fit(X_train, y_train)\n",
    "\n",
    "print(f\"Best cross validation accuracy: {grid.best_score_:.5f}\")\n",
    "print(f\"Test set score: {grid.score(X_test, y_test):.5f}\")\n",
    "print(f\"Best param validation accuracy: {grid.best_params_}\")\n",
    "print(f\"Best estimator:\\n{grid.best_estimator_}\")"
   ]
  },
  {
   "cell_type": "markdown",
   "id": "7e3ca6a3",
   "metadata": {},
   "source": [
    "# Effectuer une recherche sur grill pour trouver quel modèle utiliser"
   ]
  },
  {
   "cell_type": "code",
   "execution_count": 38,
   "id": "407079d6",
   "metadata": {},
   "outputs": [
    {
     "data": {
      "text/plain": [
       "GridSearchCV(cv=5,\n",
       "             estimator=Pipeline(steps=[('preprocessing', StandardScaler()),\n",
       "                                       ('classifier', SVC())]),\n",
       "             param_grid=[{'classifier': [SVC(gamma=0.01)],\n",
       "                          'classifier__C': [0.001, 0.01, 0.1, 1.0, 1.0],\n",
       "                          'classifier__gamma': [0.001, 0.01, 0.1, 1.0, 1.0],\n",
       "                          'preprocessing': [StandardScaler(), None]},\n",
       "                         {'classifier': [RandomForestClassifier()],\n",
       "                          'classifier__max_features': [1, 2, 3],\n",
       "                          'classifier__n_estimators': [100],\n",
       "                          'preprocessing': [None]}])"
      ]
     },
     "execution_count": 38,
     "metadata": {},
     "output_type": "execute_result"
    }
   ],
   "source": [
    "param_grid = [\n",
    "    # Model 1\n",
    "    {'classifier': [SVC()], 'preprocessing': [StandardScaler(), None],\n",
    "    'classifier__C': [.001, .01, .1, 1., 1.],\n",
    "    'classifier__gamma': [.001, .01, .1, 1., 1.]},\n",
    "    # Model 2\n",
    "    {'classifier': [RandomForestClassifier()], 'preprocessing': [None],\n",
    "    'classifier__n_estimators': [100],\n",
    "    'classifier__max_features': [1, 2, 3]}]\n",
    "\n",
    "# Load dataset\n",
    "cancer = load_breast_cancer()\n",
    "\n",
    "# Split data\n",
    "X_train, X_test, y_train, y_test = train_test_split(cancer.data, cancer.target, random_state=42)\n",
    "\n",
    "pipe = Pipeline([('preprocessing', StandardScaler()), ('classifier', SVC())])\n",
    "grid = GridSearchCV(pipe, param_grid=param_grid, cv=5)\n",
    "\n",
    "grid.fit(X_train, y_train)"
   ]
  },
  {
   "cell_type": "code",
   "execution_count": 39,
   "id": "1f66b3f6",
   "metadata": {},
   "outputs": [
    {
     "name": "stdout",
     "output_type": "stream",
     "text": [
      "Best cross validation accuracy: 0.96241\n",
      "Test set score: 0.97902\n",
      "\n",
      "Best param validation accuracy:\n",
      "{'classifier': SVC(gamma=0.01), 'classifier__C': 1.0, 'classifier__gamma': 0.01, 'preprocessing': StandardScaler()}\n",
      "\n",
      "Best estimator:\n",
      "Pipeline(steps=[('preprocessing', StandardScaler()),\n",
      "                ('classifier', SVC(gamma=0.01))])\n"
     ]
    }
   ],
   "source": [
    "print(f\"Best cross validation accuracy: {grid.best_score_:.5f}\")\n",
    "print(f\"Test set score: {grid.score(X_test, y_test):.5f}\\n\")\n",
    "print(f\"Best param validation accuracy:\\n{grid.best_params_}\\n\")\n",
    "print(f\"Best estimator:\\n{grid.best_estimator_}\")"
   ]
  }
 ],
 "metadata": {
  "kernelspec": {
   "display_name": "Python 3 (ipykernel)",
   "language": "python",
   "name": "python3"
  },
  "language_info": {
   "codemirror_mode": {
    "name": "ipython",
    "version": 3
   },
   "file_extension": ".py",
   "mimetype": "text/x-python",
   "name": "python",
   "nbconvert_exporter": "python",
   "pygments_lexer": "ipython3",
   "version": "3.8.12"
  }
 },
 "nbformat": 4,
 "nbformat_minor": 5
}
