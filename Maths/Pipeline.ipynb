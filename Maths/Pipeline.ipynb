{
 "cells": [
  {
   "cell_type": "markdown",
   "id": "1e10955b",
   "metadata": {},
   "source": [
    "# Pipeline"
   ]
  },
  {
   "cell_type": "code",
   "execution_count": 40,
   "id": "4b2cdec3",
   "metadata": {},
   "outputs": [],
   "source": [
    "from sklearn.svm import SVC\n",
    "from sklearn.pipeline import Pipeline\n",
    "from sklearn.preprocessing import MinMaxScaler\n",
    "from sklearn.datasets import load_breast_cancer\n",
    "from sklearn.model_selection import train_test_split\n",
    "from sklearn.model_selection import cross_val_score, GridSearchCV, train_test_split"
   ]
  },
  {
   "cell_type": "markdown",
   "id": "cfe993cf",
   "metadata": {},
   "source": [
    "### Simple example"
   ]
  },
  {
   "cell_type": "code",
   "execution_count": 41,
   "id": "0ab99d07",
   "metadata": {},
   "outputs": [
    {
     "name": "stdout",
     "output_type": "stream",
     "text": [
      "Train Score: 0.98357\n",
      "Test Score:  0.97902\n"
     ]
    }
   ],
   "source": [
    "# Load dataset\n",
    "cancer = load_breast_cancer()\n",
    "# Split data\n",
    "X_train, X_test, y_train, y_test = train_test_split(cancer.data, cancer.target, random_state=42)\n",
    "# Normalize train data\n",
    "scaler = MinMaxScaler().fit(X_train)\n",
    "X_train_scaler = scaler.transform(X_train)\n",
    "# Normalize test data\n",
    "X_test_scaler = scaler.transform(X_test)\n",
    "# Model\n",
    "svm = SVC()\n",
    "svm.fit(X_train_scaler, y_train)\n",
    "print(f\"Train Score: {svm.score(X_train_scaler, y_train):.5f}\")\n",
    "print(f\"Test Score:  {svm.score(X_test_scaler, y_test):.5f}\")"
   ]
  },
  {
   "cell_type": "markdown",
   "id": "82381c5b",
   "metadata": {},
   "source": [
    "### Fuite de données"
   ]
  },
  {
   "cell_type": "code",
   "execution_count": 42,
   "id": "389d70dc",
   "metadata": {},
   "outputs": [
    {
     "name": "stdout",
     "output_type": "stream",
     "text": [
      "Best cross validation accuracy : 0.9788508891928865\n",
      "Best param : {'C': 1, 'gamma': 1}\n",
      "Test Accuracy score : 0.9790209790209791\n"
     ]
    }
   ],
   "source": [
    "param_grid = {'C': [0.001, 0.01, 0.1, 1, 10],\n",
    "              'gamma': [0.001, 0.01, 0.1, 1, 10]}\n",
    "\n",
    "grid = GridSearchCV(SVC(), param_grid=param_grid, cv=5)\n",
    "# <!> Big mistake : Nous nous sommes servis de tous les données d'apprentissage recalibrées pour la recherche sur grille\n",
    "# Pour chaque division dans la validation croisée, une certaines partie du jeu de données d'apprentissage original \n",
    "# va être déclarée comme étant TRAIN set et une autre comme étant TEST set de cette division\n",
    "# Dans ce cas --> Fuite d'information\n",
    "# Pour éviter ce problème, la division du jeu de données au cours de la validation croisée \n",
    "# devrait être effectuée avant tout prétraitement --> Utiliser un pipeline\n",
    "grid.fit(X_train_scaler, y_train)\n",
    "print(f\"Best cross validation accuracy : {grid.best_score_}\")\n",
    "print(f\"Best param : {grid.best_params_}\")\n",
    "print(f\"Test Accuracy score : {grid.score(X_test_scaler, y_test)}\")"
   ]
  },
  {
   "cell_type": "markdown",
   "id": "3c6c2ef6",
   "metadata": {},
   "source": [
    "## Pipeline\n",
    "\n",
    "Pipeline pour exprimer le flux de travail d'apprentissage.\n",
    "\n",
    "L'object Pipeline prend une liste d'étape et chaque étape est un tuple.\n",
    "\n",
    "La classe _Pipeline_ n'est pas restreinte au prétraitement et à la classification.\n",
    "\n",
    "Les conditiosn pour les estimateurs d'un pipeline sont:\n",
    "\n",
    "- Toutes les étapes la dernière, doivent possèder les méthodes _fit_ et _transform_\n",
    "    - _transform_ pour qu'ils soient capables de produire une nouvelle représentation des données qui pourra être utilisée dans l'étape suivante\n",
    "- La derniere étape doit dispenser d'une fonction fit mais pas d'un de la fonction _predict_\n",
    "\n",
    "Au cours de l'appel à Pipeline.fit, le pipeline appelle _fit_ puis _transform_ ou simplement _fit_transform_ sur chaque étape."
   ]
  },
  {
   "cell_type": "code",
   "execution_count": 43,
   "id": "e3f17612",
   "metadata": {},
   "outputs": [
    {
     "name": "stdout",
     "output_type": "stream",
     "text": [
      "Test Score: 0.97902\n"
     ]
    }
   ],
   "source": [
    "# Create pipeline\n",
    "pipe = Pipeline([(\"scaler\", MinMaxScaler()), \n",
    "                 (\"svm\", SVC())])\n",
    "\n",
    "# Fit pipeline\n",
    "pipe.fit(X_train, y_train)\n",
    "\n",
    "# Score \n",
    "print(f\"Test Score: {pipe.score(X_test, y_test):.5f}\")"
   ]
  },
  {
   "cell_type": "code",
   "execution_count": 56,
   "id": "9bf03052",
   "metadata": {},
   "outputs": [
    {
     "data": {
      "text/plain": [
       "[('scaler', MinMaxScaler()), ('svm', SVC())]"
      ]
     },
     "execution_count": 56,
     "metadata": {},
     "output_type": "execute_result"
    }
   ],
   "source": [
    "pipe.steps"
   ]
  },
  {
   "cell_type": "markdown",
   "id": "c2447b45",
   "metadata": {},
   "source": [
    "## Pipeline dans des recherches sur grill\n",
    "\n",
    "La syntaxe à employer pour définir une grille dans un pipeline consiste à spécifier :\n",
    "\n",
    "Pour chaque paramètre **nom de l'étape __ non du paramètre exact concerné**.\n",
    "\n",
    "_MinMaxScaler_ est réajusté uniquement pour les données d'apprentissage et donc aucune information ne fuite du jeu de test.\n",
    "\n"
   ]
  },
  {
   "cell_type": "markdown",
   "id": "388fa472",
   "metadata": {},
   "source": [
    "## Method 1 (long)"
   ]
  },
  {
   "cell_type": "code",
   "execution_count": 57,
   "id": "17a7f442",
   "metadata": {},
   "outputs": [
    {
     "name": "stdout",
     "output_type": "stream",
     "text": [
      "Best cross validation accuracy: 0.96944\n",
      "Test set score: 0.97902\n",
      "Best param validation accuracy: {'svm__C': 1, 'svm__gamma': 1}\n"
     ]
    }
   ],
   "source": [
    "param_grid = {'svm__C': [0.001, 0.01, 0.1, 1],\n",
    "              'svm__gamma': [0.001, 0.01, 0.1, 1]}\n",
    "\n",
    "pipe = Pipeline([(\"scaler\", MinMaxScaler()), (\"svm\", SVC())])\n",
    "grid = GridSearchCV(pipe, param_grid=param_grid, cv=5)\n",
    "\n",
    "grid.fit(X_train, y_train)\n",
    "\n",
    "print(f\"Best cross validation accuracy: {grid.best_score_:.5f}\")\n",
    "print(f\"Test set score: {grid.score(X_test, y_test):.5f}\")\n",
    "print(f\"Best param validation accuracy: {grid.best_params_}\")"
   ]
  },
  {
   "cell_type": "markdown",
   "id": "bd35f61a",
   "metadata": {},
   "source": [
    "## Method 2 (short)"
   ]
  },
  {
   "cell_type": "code",
   "execution_count": null,
   "id": "0b6d86e6",
   "metadata": {},
   "outputs": [],
   "source": []
  },
  {
   "cell_type": "code",
   "execution_count": null,
   "id": "a5326879",
   "metadata": {},
   "outputs": [],
   "source": []
  }
 ],
 "metadata": {
  "kernelspec": {
   "display_name": "Python 3 (ipykernel)",
   "language": "python",
   "name": "python3"
  },
  "language_info": {
   "codemirror_mode": {
    "name": "ipython",
    "version": 3
   },
   "file_extension": ".py",
   "mimetype": "text/x-python",
   "name": "python",
   "nbconvert_exporter": "python",
   "pygments_lexer": "ipython3",
   "version": "3.8.12"
  }
 },
 "nbformat": 4,
 "nbformat_minor": 5
}
