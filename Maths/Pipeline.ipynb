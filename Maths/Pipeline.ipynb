{
 "cells": [
  {
   "cell_type": "markdown",
   "id": "938cdd4b",
   "metadata": {},
   "source": [
    "# Pipeline\n",
    "\n",
    "Outil généraliste servant à chaîner et encapsuler plusieurs étapes de traitement dans un flux d'apprentissage automatique dans un seul object Python.\n",
    "\n",
    "Outil très util pour éviter la fuite d'information lors de la valisation croisée et la sélection de paramètres par recherche de grille.\n",
    "\n",
    "Pipeline permet d'écrire du code de manière plus succincte."
   ]
  },
  {
   "cell_type": "code",
   "execution_count": 15,
   "id": "00099b16",
   "metadata": {},
   "outputs": [],
   "source": [
    "# imports\n",
    "from sklearn.svm import SVC\n",
    "from sklearn.decomposition import PCA\n",
    "from sklearn.linear_model import Ridge \n",
    "from sklearn.datasets import load_breast_cancer\n",
    "from sklearn.ensemble import RandomForestClassifier\n",
    "from sklearn.pipeline import Pipeline, make_pipeline\n",
    "from sklearn.preprocessing import MinMaxScaler, StandardScaler\n",
    "from sklearn.model_selection import train_test_split, cross_val_score, GridSearchCV, train_test_split"
   ]
  },
  {
   "cell_type": "markdown",
   "id": "aab5c5e7",
   "metadata": {},
   "source": [
    "# Simple example"
   ]
  },
  {
   "cell_type": "code",
   "execution_count": 2,
   "id": "2cfeb015",
   "metadata": {},
   "outputs": [
    {
     "name": "stdout",
     "output_type": "stream",
     "text": [
      "Train Score: 0.98357\n",
      "Test Score:  0.97902\n"
     ]
    }
   ],
   "source": [
    "# Load dataset\n",
    "cancer = load_breast_cancer()\n",
    "\n",
    "# Split data\n",
    "X_train, X_test, y_train, y_test = train_test_split(cancer.data, cancer.target, random_state=42)\n",
    "\n",
    "# Normalize train data\n",
    "scaler         = MinMaxScaler().fit(X_train)\n",
    "X_train_scaler = scaler.transform(X_train)\n",
    "\n",
    "# Normalize test data\n",
    "X_test_scaler = scaler.transform(X_test)\n",
    "\n",
    "# Model\n",
    "svm = SVC()\n",
    "\n",
    "# Fit the model\n",
    "svm.fit(X_train_scaler, y_train)\n",
    "\n",
    "# Scoring\n",
    "print(f\"Train Score: {svm.score(X_train_scaler, y_train):.5f}\")\n",
    "print(f\"Test Score:  {svm.score(X_test_scaler, y_test):.5f}\")"
   ]
  },
  {
   "cell_type": "markdown",
   "id": "dce00250",
   "metadata": {},
   "source": [
    "### Fuite de données\n",
    "\n",
    "```Python\n",
    "grid = GridSearchCV(SVC(), param_grid=param_grid, cv=5)\n",
    "grid.fit(X_train_scaler, y_train)\n",
    "```\n",
    "Nous nous sommes servis de tous les données d'apprentissage recalibrées pour la recherche sur grille.\n",
    "\n",
    "Pour chaque division dans la validation croisée, une certaines partie du jeu de données d'apprentissage original va être déclarée comme étant TRAIN set et une autre comme étant TEST set de cette division.\n",
    "\n",
    "Dans ce cas $\\Rightarrow$ Fuite d'information\n",
    "\n",
    "Pour éviter ce problème, la division du jeu de données au cours de la validation croisée devrait être effectuée avant tout prétraitement $\\Rightarrow$ Utiliser un pipeline"
   ]
  },
  {
   "cell_type": "code",
   "execution_count": 3,
   "id": "2dee7c6f",
   "metadata": {},
   "outputs": [
    {
     "name": "stdout",
     "output_type": "stream",
     "text": [
      "Best cross validation accuracy : 0.9788508891928865\n",
      "Best param : {'C': 1, 'gamma': 1}\n",
      "Test Accuracy score : 0.9790209790209791\n"
     ]
    }
   ],
   "source": [
    "param_grid = {'C': [0.001, 0.01, 0.1, 1, 10], 'gamma': [0.001, 0.01, 0.1, 1, 10]}\n",
    "\n",
    "grid = GridSearchCV(SVC(), param_grid=param_grid, cv=5)\n",
    "# <!> Big mistake \n",
    "grid.fit(X_train_scaler, y_train)\n",
    "print(f\"Best cross validation accuracy : {grid.best_score_}\")\n",
    "print(f\"Best param : {grid.best_params_}\")\n",
    "print(f\"Test Accuracy score : {grid.score(X_test_scaler, y_test)}\")"
   ]
  },
  {
   "cell_type": "markdown",
   "id": "2c783e85",
   "metadata": {},
   "source": [
    "# Pipeline\n",
    "\n",
    "Pipeline pour exprimer le flux de travail d'apprentissage.\n",
    "\n",
    "L'object Pipeline prend une liste d'étape et chaque étape est un tuple.\n",
    "\n",
    "La classe _Pipeline_ n'est pas restreinte au prétraitement et à la classification.\n",
    "\n",
    "Les conditions à respecter pour les estimateurs d'un pipeline sont:\n",
    "\n",
    "- Toutes les étapes (sauf la dernière) doivent comprendre les méthodes _fit_ et _transform_:\n",
    "    - _transform_ pour qu'ils soient capables de produire une nouvelle représentation des données qui pourra être utilisée dans l'étape suivante\n",
    "- La derniere étape doit comprendre de la fonction _fit_ mais pas forcement de la fonction _predict_\n",
    "\n",
    "Au cours de l'appel à Pipeline.fit, le pipeline appelle _fit_ puis _transform_ ou simplement _fit_transform_ sur chaque étape."
   ]
  },
  {
   "cell_type": "code",
   "execution_count": 4,
   "id": "d40bbe93",
   "metadata": {},
   "outputs": [
    {
     "name": "stdout",
     "output_type": "stream",
     "text": [
      "Test Score: 0.97902\n"
     ]
    }
   ],
   "source": [
    "# Create pipeline\n",
    "pipe = Pipeline([(\"scaler\", MinMaxScaler()), (\"svm\", SVC())])\n",
    "\n",
    "# Fit pipeline\n",
    "pipe.fit(X_train, y_train)\n",
    "\n",
    "# Score \n",
    "print(f\"Test Score: {pipe.score(X_test, y_test):.5f}\")\n",
    "\n",
    "# Steps\n",
    "pipe.steps"
   ]
  },
  {
   "cell_type": "markdown",
   "id": "b10161e6",
   "metadata": {},
   "source": [
    "## Accéder aux attributs des étapes"
   ]
  },
  {
   "cell_type": "code",
   "execution_count": 6,
   "id": "e3bd117f",
   "metadata": {},
   "outputs": [
    {
     "data": {
      "text/plain": [
       "{'scaler': MinMaxScaler(), 'svm': SVC()}"
      ]
     },
     "execution_count": 6,
     "metadata": {},
     "output_type": "execute_result"
    }
   ],
   "source": [
    "pipe.named_steps"
   ]
  },
  {
   "cell_type": "code",
   "execution_count": 7,
   "id": "1ef491c2",
   "metadata": {},
   "outputs": [
    {
     "data": {
      "text/plain": [
       "SVC()"
      ]
     },
     "execution_count": 7,
     "metadata": {},
     "output_type": "execute_result"
    }
   ],
   "source": [
    "pipe.named_steps['svm']"
   ]
  },
  {
   "cell_type": "code",
   "execution_count": 8,
   "id": "ddf3e5c3",
   "metadata": {},
   "outputs": [
    {
     "data": {
      "text/plain": [
       "1.0"
      ]
     },
     "execution_count": 8,
     "metadata": {},
     "output_type": "execute_result"
    }
   ],
   "source": [
    "pipe.named_steps['svm'].C"
   ]
  },
  {
   "cell_type": "markdown",
   "id": "7e6981a2",
   "metadata": {},
   "source": [
    "## Pipeline dans des recherches sur grill\n",
    "\n",
    "La syntaxe à employer pour définir une grille dans un pipeline consiste à spécifier :\n",
    "\n",
    "Pour chaque paramètre **nom de l'étape __ non du paramètre exact concerné**.\n",
    "\n",
    "_MinMaxScaler_ est réajusté uniquement pour les données d'apprentissage et donc aucune information ne fuite du jeu de test.\n",
    "\n"
   ]
  },
  {
   "cell_type": "markdown",
   "id": "3824758d",
   "metadata": {},
   "source": [
    "## Method 1 : Pipeline (long)"
   ]
  },
  {
   "cell_type": "code",
   "execution_count": 9,
   "id": "fe4b24c5",
   "metadata": {},
   "outputs": [
    {
     "name": "stdout",
     "output_type": "stream",
     "text": [
      "Best cross validation accuracy: 0.96944\n",
      "Test set score: 0.97902\n",
      "Best param validation accuracy: {'svm__C': 1, 'svm__gamma': 1}\n",
      "Best estimator:\n",
      "Pipeline(steps=[('scaler', MinMaxScaler()), ('svm', SVC(C=1, gamma=1))])\n"
     ]
    }
   ],
   "source": [
    "param_grid = {'svm__C': [0.001, 0.01, 0.1, 1],\n",
    "              'svm__gamma': [0.001, 0.01, 0.1, 1]}\n",
    "\n",
    "pipe = Pipeline([(\"scaler\", MinMaxScaler()), (\"svm\", SVC())])\n",
    "\n",
    "grid = GridSearchCV(pipe, param_grid=param_grid, cv=5, n_jobs=-1)\n",
    "\n",
    "grid.fit(X_train, y_train)\n",
    "\n",
    "print(f\"Best cross validation accuracy: {grid.best_score_:.5f}\")\n",
    "print(f\"Test set score: {grid.score(X_test, y_test):.5f}\")\n",
    "print(f\"Best param validation accuracy: {grid.best_params_}\")\n",
    "# Dans notre cas, grid.best_estimator_ est un pipeline avec 2 étapes\n",
    "print(f\"Best estimator:\\n{grid.best_estimator_}\")"
   ]
  },
  {
   "cell_type": "code",
   "execution_count": 10,
   "id": "f58b594d",
   "metadata": {},
   "outputs": [
    {
     "data": {
      "text/plain": [
       "SVC(C=1, gamma=1)"
      ]
     },
     "execution_count": 10,
     "metadata": {},
     "output_type": "execute_result"
    }
   ],
   "source": [
    "grid.best_estimator_.named_steps[\"svm\"]"
   ]
  },
  {
   "cell_type": "code",
   "execution_count": 11,
   "id": "2de171a1",
   "metadata": {},
   "outputs": [
    {
     "data": {
      "text/plain": [
       "1"
      ]
     },
     "execution_count": 11,
     "metadata": {},
     "output_type": "execute_result"
    }
   ],
   "source": [
    "grid.best_estimator_.named_steps[\"svm\"].C"
   ]
  },
  {
   "cell_type": "markdown",
   "id": "d03fbd63",
   "metadata": {},
   "source": [
    "## Method 2 : Make_pipeline (short)"
   ]
  },
  {
   "cell_type": "code",
   "execution_count": 12,
   "id": "baa1d123",
   "metadata": {},
   "outputs": [
    {
     "name": "stdout",
     "output_type": "stream",
     "text": [
      "[Pipeline] .... (step 1 of 3) Processing minmaxscaler-1, total=   0.0s\n",
      "[Pipeline] ............... (step 2 of 3) Processing pca, total=   0.0s\n",
      "[Pipeline] .... (step 3 of 3) Processing minmaxscaler-2, total=   0.0s\n",
      "Best cross validation accuracy: 0.96944\n",
      "Test set score: 0.97902\n",
      "Best param validation accuracy: {'svm__C': 1, 'svm__gamma': 1}\n",
      "Best estimator:\n",
      "Pipeline(steps=[('scaler', MinMaxScaler()), ('svm', SVC(C=1, gamma=1))])\n"
     ]
    },
    {
     "data": {
      "text/plain": [
       "[('minmaxscaler-1', MinMaxScaler()),\n",
       " ('pca', PCA(n_components=2)),\n",
       " ('minmaxscaler-2', MinMaxScaler())]"
      ]
     },
     "execution_count": 12,
     "metadata": {},
     "output_type": "execute_result"
    }
   ],
   "source": [
    "# MinMaxScaler ont été renommée, mais il est préférable d'utiliser la construction Pipeline \n",
    "# avec des noms explicites afin de rendre chaque étape plus explicite\n",
    "pipe = make_pipeline(MinMaxScaler(), PCA(n_components=2), MinMaxScaler(), verbose=True)\n",
    "\n",
    "pipe.fit(X_train, y_train)\n",
    "\n",
    "print(f\"Best cross validation accuracy: {grid.best_score_:.5f}\")\n",
    "print(f\"Test set score: {grid.score(X_test, y_test):.5f}\")\n",
    "print(f\"Best param validation accuracy: {grid.best_params_}\")\n",
    "# Dans notre cas, grid.best_estimator_ est un pipeline avec 2 étapes\n",
    "print(f\"Best estimator:\\n{grid.best_estimator_}\")\n",
    "# Steps\n",
    "pipe.steps"
   ]
  },
  {
   "cell_type": "code",
   "execution_count": 13,
   "id": "3a8d59ef",
   "metadata": {},
   "outputs": [
    {
     "name": "stdout",
     "output_type": "stream",
     "text": [
      "Best cross validation accuracy: 0.70815\n",
      "Test set score: 0.75317\n",
      "Best param validation accuracy: {'ridge__alpha': 0.1}\n",
      "Best estimator:\n",
      "Pipeline(steps=[('minmaxscaler', MinMaxScaler()), ('ridge', Ridge(alpha=0.1))])\n"
     ]
    }
   ],
   "source": [
    "param_grid = {'ridge__alpha': [0.001, 0.01, 0.1, 1]}\n",
    "\n",
    "pipe = make_pipeline(MinMaxScaler(), Ridge(), verbose=False)\n",
    "\n",
    "grid = GridSearchCV(pipe, param_grid=param_grid, cv=5, n_jobs=-1)\n",
    "\n",
    "grid.fit(X_train, y_train)\n",
    "\n",
    "print(f\"Best cross validation accuracy: {grid.best_score_:.5f}\")\n",
    "print(f\"Test set score: {grid.score(X_test, y_test):.5f}\")\n",
    "print(f\"Best param validation accuracy: {grid.best_params_}\")\n",
    "print(f\"Best estimator:\\n{grid.best_estimator_}\")"
   ]
  },
  {
   "cell_type": "markdown",
   "id": "af3acffc",
   "metadata": {},
   "source": [
    "# Effectuer une recherche sur grill pour trouver quel modèle utiliser"
   ]
  },
  {
   "cell_type": "code",
   "execution_count": 38,
   "id": "af29ff7d",
   "metadata": {},
   "outputs": [
    {
     "data": {
      "text/plain": [
       "GridSearchCV(cv=5,\n",
       "             estimator=Pipeline(steps=[('preprocessing', StandardScaler()),\n",
       "                                       ('classifier', SVC())]),\n",
       "             param_grid=[{'classifier': [SVC(gamma=0.01)],\n",
       "                          'classifier__C': [0.001, 0.01, 0.1, 1.0, 1.0],\n",
       "                          'classifier__gamma': [0.001, 0.01, 0.1, 1.0, 1.0],\n",
       "                          'preprocessing': [StandardScaler(), None]},\n",
       "                         {'classifier': [RandomForestClassifier()],\n",
       "                          'classifier__max_features': [1, 2, 3],\n",
       "                          'classifier__n_estimators': [100],\n",
       "                          'preprocessing': [None]}])"
      ]
     },
     "execution_count": 38,
     "metadata": {},
     "output_type": "execute_result"
    }
   ],
   "source": [
    "param_grid = [\n",
    "    # Model 1\n",
    "    {'classifier': [SVC()], 'preprocessing': [StandardScaler(), None],\n",
    "    'classifier__C': [.001, .01, .1, 1., 1.],\n",
    "    'classifier__gamma': [.001, .01, .1, 1., 1.]},\n",
    "    # Model 2\n",
    "    {'classifier': [RandomForestClassifier()], 'preprocessing': [None],\n",
    "    'classifier__n_estimators': [100],\n",
    "    'classifier__max_features': [1, 2, 3]}]\n",
    "\n",
    "# Load dataset\n",
    "cancer = load_breast_cancer()\n",
    "\n",
    "# Split data\n",
    "X_train, X_test, y_train, y_test = train_test_split(cancer.data, cancer.target, random_state=42)\n",
    "\n",
    "pipe = Pipeline([('preprocessing', StandardScaler()), ('classifier', SVC())])\n",
    "grid = GridSearchCV(pipe, param_grid=param_grid, cv=5)\n",
    "\n",
    "grid.fit(X_train, y_train)"
   ]
  },
  {
   "cell_type": "code",
   "execution_count": null,
   "id": "c5a86949",
   "metadata": {},
   "outputs": [],
   "source": [
    "print(f\"Best cross validation accuracy: {grid.best_score_:.5f}\")\n",
    "print(f\"Test set score: {grid.score(X_test, y_test):.5f}\\n\")\n",
    "print(f\"Best param validation accuracy:\\n{grid.best_params_}\\n\")\n",
    "print(f\"Best estimator:\\n{grid.best_estimator_}\")"
   ]
  }
 ],
 "metadata": {
  "kernelspec": {
   "display_name": "Python 3 (ipykernel)",
   "language": "python",
   "name": "python3"
  },
  "language_info": {
   "codemirror_mode": {
    "name": "ipython",
    "version": 3
   },
   "file_extension": ".py",
   "mimetype": "text/x-python",
   "name": "python",
   "nbconvert_exporter": "python",
   "pygments_lexer": "ipython3",
   "version": "3.8.12"
  }
 },
 "nbformat": 4,
 "nbformat_minor": 5
}
