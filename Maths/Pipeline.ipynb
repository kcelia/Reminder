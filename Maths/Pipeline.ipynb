{
 "cells": [
  {
   "cell_type": "markdown",
   "id": "d7c03a7c",
   "metadata": {},
   "source": [
    "# Pipeline\n",
    "\n",
    "Outil généraliste servant à chaîner et encapsuler plusieurs étapes de traitement dans un flux d'apprentissage automatique dans un seul object Python.\n",
    "\n",
    "Outil très util pour éviter la fuite d'information lors de la valisation croisée et la sélection de paramètres par recherche de grille.\n",
    "\n",
    "Pipeline permet d'écrire du code de manière plus succincte "
   ]
  },
  {
   "cell_type": "code",
   "execution_count": 1,
   "id": "e6173fa4",
   "metadata": {},
   "outputs": [],
   "source": [
    "# imports\n",
    "from sklearn.svm import SVC\n",
    "from sklearn.decomposition import PCA\n",
    "from sklearn.linear_model import Ridge \n",
    "from sklearn.preprocessing import MinMaxScaler\n",
    "from sklearn.datasets import load_breast_cancer\n",
    "from sklearn.pipeline import Pipeline, make_pipeline\n",
    "from sklearn.model_selection import train_test_split, cross_val_score, GridSearchCV, train_test_split"
   ]
  },
  {
   "cell_type": "markdown",
   "id": "44510a4d",
   "metadata": {},
   "source": [
    "# Simple example"
   ]
  },
  {
   "cell_type": "code",
   "execution_count": 2,
   "id": "07ff65fa",
   "metadata": {},
   "outputs": [
    {
     "name": "stdout",
     "output_type": "stream",
     "text": [
      "Train Score: 0.98357\n",
      "Test Score:  0.97902\n"
     ]
    }
   ],
   "source": [
    "# Load dataset\n",
    "cancer = load_breast_cancer()\n",
    "\n",
    "# Split data\n",
    "X_train, X_test, y_train, y_test = train_test_split(cancer.data, cancer.target, random_state=42)\n",
    "\n",
    "# Normalize train data\n",
    "scaler         = MinMaxScaler().fit(X_train)\n",
    "X_train_scaler = scaler.transform(X_train)\n",
    "\n",
    "# Normalize test data\n",
    "X_test_scaler = scaler.transform(X_test)\n",
    "\n",
    "# Model\n",
    "svm = SVC()\n",
    "\n",
    "# Fit the model\n",
    "svm.fit(X_train_scaler, y_train)\n",
    "\n",
    "# Scoring\n",
    "print(f\"Train Score: {svm.score(X_train_scaler, y_train):.5f}\")\n",
    "print(f\"Test Score:  {svm.score(X_test_scaler, y_test):.5f}\")"
   ]
  },
  {
   "cell_type": "markdown",
   "id": "528d34ea",
   "metadata": {},
   "source": [
    "### Fuite de données"
   ]
  },
  {
   "cell_type": "code",
   "execution_count": 3,
   "id": "e18e0acc",
   "metadata": {},
   "outputs": [
    {
     "name": "stdout",
     "output_type": "stream",
     "text": [
      "Best cross validation accuracy : 0.9788508891928865\n",
      "Best param : {'C': 1, 'gamma': 1}\n",
      "Test Accuracy score : 0.9790209790209791\n"
     ]
    }
   ],
   "source": [
    "param_grid = {'C': [0.001, 0.01, 0.1, 1, 10],\n",
    "              'gamma': [0.001, 0.01, 0.1, 1, 10]}\n",
    "\n",
    "grid = GridSearchCV(SVC(), param_grid=param_grid, cv=5)\n",
    "# <!> Big mistake : Nous nous sommes servis de tous les données d'apprentissage recalibrées pour la recherche sur grille\n",
    "# Pour chaque division dans la validation croisée, une certaines partie du jeu de données d'apprentissage original \n",
    "# va être déclarée comme étant TRAIN set et une autre comme étant TEST set de cette division\n",
    "# Dans ce cas --> Fuite d'information\n",
    "# Pour éviter ce problème, la division du jeu de données au cours de la validation croisée \n",
    "# devrait être effectuée avant tout prétraitement --> Utiliser un pipeline\n",
    "grid.fit(X_train_scaler, y_train)\n",
    "print(f\"Best cross validation accuracy : {grid.best_score_}\")\n",
    "print(f\"Best param : {grid.best_params_}\")\n",
    "print(f\"Test Accuracy score : {grid.score(X_test_scaler, y_test)}\")"
   ]
  },
  {
   "cell_type": "markdown",
   "id": "aead3630",
   "metadata": {},
   "source": [
    "# Pipeline\n",
    "\n",
    "Pipeline pour exprimer le flux de travail d'apprentissage.\n",
    "\n",
    "L'object Pipeline prend une liste d'étape et chaque étape est un tuple.\n",
    "\n",
    "La classe _Pipeline_ n'est pas restreinte au prétraitement et à la classification.\n",
    "\n",
    "Les conditions à respecter pour les estimateurs d'un pipeline sont:\n",
    "\n",
    "- Toutes les étapes (sauf la dernière) doivent comprendre les méthodes _fit_ et _transform_:\n",
    "    - _transform_ pour qu'ils soient capables de produire une nouvelle représentation des données qui pourra être utilisée dans l'étape suivante\n",
    "- La derniere étape doit comprendre de la fonction _fit_ mais pas forcement de la fonction _predict_\n",
    "\n",
    "Au cours de l'appel à Pipeline.fit, le pipeline appelle _fit_ puis _transform_ ou simplement _fit_transform_ sur chaque étape."
   ]
  },
  {
   "cell_type": "code",
   "execution_count": 4,
   "id": "e532ce5a",
   "metadata": {},
   "outputs": [
    {
     "name": "stdout",
     "output_type": "stream",
     "text": [
      "Test Score: 0.97902\n"
     ]
    }
   ],
   "source": [
    "# Create pipeline\n",
    "pipe = Pipeline([(\"scaler\", MinMaxScaler()), \n",
    "                 (\"svm\", SVC())])\n",
    "\n",
    "# Fit pipeline\n",
    "pipe.fit(X_train, y_train)\n",
    "\n",
    "# Score \n",
    "print(f\"Test Score: {pipe.score(X_test, y_test):.5f}\")"
   ]
  },
  {
   "cell_type": "code",
   "execution_count": 5,
   "id": "b0ecff31",
   "metadata": {},
   "outputs": [
    {
     "data": {
      "text/plain": [
       "[('scaler', MinMaxScaler()), ('svm', SVC())]"
      ]
     },
     "execution_count": 5,
     "metadata": {},
     "output_type": "execute_result"
    }
   ],
   "source": [
    "pipe.steps"
   ]
  },
  {
   "cell_type": "markdown",
   "id": "a625a4a9",
   "metadata": {},
   "source": [
    "## Accéder aux attributs des étapes"
   ]
  },
  {
   "cell_type": "code",
   "execution_count": 6,
   "id": "9f9ca72d",
   "metadata": {},
   "outputs": [
    {
     "data": {
      "text/plain": [
       "{'scaler': MinMaxScaler(), 'svm': SVC()}"
      ]
     },
     "execution_count": 6,
     "metadata": {},
     "output_type": "execute_result"
    }
   ],
   "source": [
    "pipe.named_steps"
   ]
  },
  {
   "cell_type": "code",
   "execution_count": 7,
   "id": "9866163b",
   "metadata": {},
   "outputs": [
    {
     "data": {
      "text/plain": [
       "SVC()"
      ]
     },
     "execution_count": 7,
     "metadata": {},
     "output_type": "execute_result"
    }
   ],
   "source": [
    "pipe.named_steps['svm']"
   ]
  },
  {
   "cell_type": "code",
   "execution_count": 8,
   "id": "75fc9c01",
   "metadata": {},
   "outputs": [
    {
     "data": {
      "text/plain": [
       "1.0"
      ]
     },
     "execution_count": 8,
     "metadata": {},
     "output_type": "execute_result"
    }
   ],
   "source": [
    "pipe.named_steps['svm'].C"
   ]
  },
  {
   "cell_type": "markdown",
   "id": "d6c1f46a",
   "metadata": {},
   "source": [
    "## Pipeline dans des recherches sur grill\n",
    "\n",
    "La syntaxe à employer pour définir une grille dans un pipeline consiste à spécifier :\n",
    "\n",
    "Pour chaque paramètre **nom de l'étape __ non du paramètre exact concerné**.\n",
    "\n",
    "_MinMaxScaler_ est réajusté uniquement pour les données d'apprentissage et donc aucune information ne fuite du jeu de test.\n",
    "\n"
   ]
  },
  {
   "cell_type": "markdown",
   "id": "84f80eb7",
   "metadata": {},
   "source": [
    "## Method 1 : Pipeline (long)"
   ]
  },
  {
   "cell_type": "code",
   "execution_count": 9,
   "id": "b5410153",
   "metadata": {},
   "outputs": [
    {
     "name": "stdout",
     "output_type": "stream",
     "text": [
      "Best cross validation accuracy: 0.96944\n",
      "Test set score: 0.97902\n",
      "Best param validation accuracy: {'svm__C': 1, 'svm__gamma': 1}\n",
      "Best estimator:\n",
      "Pipeline(steps=[('scaler', MinMaxScaler()), ('svm', SVC(C=1, gamma=1))])\n"
     ]
    }
   ],
   "source": [
    "param_grid = {'svm__C': [0.001, 0.01, 0.1, 1],\n",
    "              'svm__gamma': [0.001, 0.01, 0.1, 1]}\n",
    "\n",
    "pipe = Pipeline([(\"scaler\", MinMaxScaler()), (\"svm\", SVC())])\n",
    "\n",
    "grid = GridSearchCV(pipe, param_grid=param_grid, cv=5, n_jobs=-1)\n",
    "\n",
    "grid.fit(X_train, y_train)\n",
    "\n",
    "print(f\"Best cross validation accuracy: {grid.best_score_:.5f}\")\n",
    "print(f\"Test set score: {grid.score(X_test, y_test):.5f}\")\n",
    "print(f\"Best param validation accuracy: {grid.best_params_}\")\n",
    "# Dans notre cas, grid.best_estimator_ est un pipeline avec 2 étapes\n",
    "print(f\"Best estimator:\\n{grid.best_estimator_}\")"
   ]
  },
  {
   "cell_type": "code",
   "execution_count": 10,
   "id": "de562137",
   "metadata": {},
   "outputs": [
    {
     "data": {
      "text/plain": [
       "SVC(C=1, gamma=1)"
      ]
     },
     "execution_count": 10,
     "metadata": {},
     "output_type": "execute_result"
    }
   ],
   "source": [
    "grid.best_estimator_.named_steps[\"svm\"]"
   ]
  },
  {
   "cell_type": "code",
   "execution_count": 11,
   "id": "c179e725",
   "metadata": {},
   "outputs": [
    {
     "data": {
      "text/plain": [
       "1"
      ]
     },
     "execution_count": 11,
     "metadata": {},
     "output_type": "execute_result"
    }
   ],
   "source": [
    "grid.best_estimator_.named_steps[\"svm\"].C"
   ]
  },
  {
   "cell_type": "markdown",
   "id": "b4566c54",
   "metadata": {},
   "source": [
    "## Method 2 : Make_pipeline (short)"
   ]
  },
  {
   "cell_type": "code",
   "execution_count": 12,
   "id": "d7fc51e2",
   "metadata": {},
   "outputs": [
    {
     "name": "stdout",
     "output_type": "stream",
     "text": [
      "[Pipeline] .... (step 1 of 3) Processing minmaxscaler-1, total=   0.0s\n",
      "[Pipeline] ............... (step 2 of 3) Processing pca, total=   0.0s\n",
      "[Pipeline] .... (step 3 of 3) Processing minmaxscaler-2, total=   0.0s\n",
      "Best cross validation accuracy: 0.96944\n",
      "Test set score: 0.97902\n",
      "Best param validation accuracy: {'svm__C': 1, 'svm__gamma': 1}\n",
      "Best estimator:\n",
      "Pipeline(steps=[('scaler', MinMaxScaler()), ('svm', SVC(C=1, gamma=1))])\n"
     ]
    },
    {
     "data": {
      "text/plain": [
       "[('minmaxscaler-1', MinMaxScaler()),\n",
       " ('pca', PCA(n_components=2)),\n",
       " ('minmaxscaler-2', MinMaxScaler())]"
      ]
     },
     "execution_count": 12,
     "metadata": {},
     "output_type": "execute_result"
    }
   ],
   "source": [
    "# MinMaxScaler ont été renommée, mais il est préférable d'utiliser la construction Pipeline \n",
    "# avec des noms explicites afin de rendre chaque étape plus explicite\n",
    "pipe = make_pipeline(MinMaxScaler(), PCA(n_components=2), MinMaxScaler(), verbose=True)\n",
    "\n",
    "pipe.fit(X_train, y_train)\n",
    "\n",
    "print(f\"Best cross validation accuracy: {grid.best_score_:.5f}\")\n",
    "print(f\"Test set score: {grid.score(X_test, y_test):.5f}\")\n",
    "print(f\"Best param validation accuracy: {grid.best_params_}\")\n",
    "# Dans notre cas, grid.best_estimator_ est un pipeline avec 2 étapes\n",
    "print(f\"Best estimator:\\n{grid.best_estimator_}\")\n",
    "\n",
    "pipe.steps"
   ]
  },
  {
   "cell_type": "code",
   "execution_count": 13,
   "id": "031b7188",
   "metadata": {},
   "outputs": [
    {
     "name": "stdout",
     "output_type": "stream",
     "text": [
      "Best cross validation accuracy: 0.70815\n",
      "Test set score: 0.75317\n",
      "Best param validation accuracy: {'ridge__alpha': 0.1}\n",
      "Best estimator:\n",
      "Pipeline(steps=[('minmaxscaler', MinMaxScaler()), ('ridge', Ridge(alpha=0.1))])\n"
     ]
    }
   ],
   "source": [
    "param_grid = {'ridge__alpha': [0.001, 0.01, 0.1, 1]}\n",
    "\n",
    "pipe = make_pipeline(MinMaxScaler(), Ridge(), verbose=False)\n",
    "\n",
    "grid = GridSearchCV(pipe, param_grid=param_grid, cv=5, n_jobs=-1)\n",
    "\n",
    "grid.fit(X_train, y_train)\n",
    "\n",
    "print(f\"Best cross validation accuracy: {grid.best_score_:.5f}\")\n",
    "print(f\"Test set score: {grid.score(X_test, y_test):.5f}\")\n",
    "print(f\"Best param validation accuracy: {grid.best_params_}\")\n",
    "print(f\"Best estimator:\\n{grid.best_estimator_}\")"
   ]
  },
  {
   "cell_type": "code",
   "execution_count": null,
   "id": "d27e94c9",
   "metadata": {},
   "outputs": [],
   "source": []
  },
  {
   "cell_type": "code",
   "execution_count": null,
   "id": "2cf65b18",
   "metadata": {},
   "outputs": [],
   "source": []
  },
  {
   "cell_type": "code",
   "execution_count": null,
   "id": "676e52a1",
   "metadata": {},
   "outputs": [],
   "source": []
  }
 ],
 "metadata": {
  "kernelspec": {
   "display_name": "Python 3 (ipykernel)",
   "language": "python",
   "name": "python3"
  },
  "language_info": {
   "codemirror_mode": {
    "name": "ipython",
    "version": 3
   },
   "file_extension": ".py",
   "mimetype": "text/x-python",
   "name": "python",
   "nbconvert_exporter": "python",
   "pygments_lexer": "ipython3",
   "version": "3.8.12"
  }
 },
 "nbformat": 4,
 "nbformat_minor": 5
}
