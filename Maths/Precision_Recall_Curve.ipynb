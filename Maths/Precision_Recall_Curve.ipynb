{
 "cells": [
  {
   "cell_type": "code",
   "execution_count": 43,
   "id": "792d9b9c",
   "metadata": {},
   "outputs": [],
   "source": [
    "import numpy as np\n",
    "import sklearn.linear_model\n",
    "import matplotlib.pyplot as plt\n",
    "import matplotlib.colors as clrs\n",
    "\n",
    "from sklearn.svm import SVC\n",
    "from sklearn.metrics import f1_score\n",
    "from sklearn.datasets import make_classification\n",
    "from sklearn.ensemble import RandomForestClassifier\n",
    "from sklearn.model_selection import train_test_split\n",
    "from sklearn.metrics import precision_recall_curve, roc_curve, roc_auc_score, average_precision_score"
   ]
  },
  {
   "cell_type": "markdown",
   "id": "dde77ba2",
   "metadata": {},
   "source": [
    "## Dataset\n",
    "\n",
    "Generating random generated data:"
   ]
  },
  {
   "cell_type": "code",
   "execution_count": 2,
   "id": "4fff7c72",
   "metadata": {},
   "outputs": [
    {
     "data": {
      "text/plain": [
       "((100, 2), (100,), (100,), (100,))"
      ]
     },
     "execution_count": 2,
     "metadata": {},
     "output_type": "execute_result"
    }
   ],
   "source": [
    "X, y = make_classification(n_features=2, n_redundant=0, n_informative=2, random_state=41, n_clusters_per_class=2)\n",
    "\n",
    "X_train, X_test, y_train, y_test = train_test_split(X, y, random_state=41)\n",
    "\n",
    "X.shape, y.shape, X[:, 0].shape, X[:, 1].shape"
   ]
  },
  {
   "cell_type": "markdown",
   "id": "90afa1ea",
   "metadata": {},
   "source": [
    "Displaying dataset"
   ]
  },
  {
   "cell_type": "code",
   "execution_count": 3,
   "id": "6ab2f547",
   "metadata": {},
   "outputs": [
    {
     "data": {
      "image/png": "[encoded data removed]",
      "text/plain": [
       "<Figure size 432x288 with 1 Axes>"
      ]
     },
     "metadata": {
      "needs_background": "light"
     },
     "output_type": "display_data"
    }
   ],
   "source": [
    "plt.plot(X[:, 0][y==0], X[:, 1][y==0], \"g^\")\n",
    "plt.plot(X[:, 0][y==1], X[:, 1][y==1], \"bs\")\n",
    "\n",
    "plt.title('Dataset')\n",
    "plt.xlabel('$X_1$')\n",
    "plt.ylabel('$X_2$')\n",
    "plt.show()"
   ]
  },
  {
   "cell_type": "markdown",
   "id": "8f58ab1c",
   "metadata": {},
   "source": [
    " ## SVM"
   ]
  },
  {
   "cell_type": "code",
   "execution_count": 44,
   "id": "3d0e422e",
   "metadata": {},
   "outputs": [
    {
     "data": {
      "text/plain": [
       "array([[0.38607424, 0.61392576],\n",
       "       [0.12808689, 0.87191311],\n",
       "       [0.8571604 , 0.1428396 ],\n",
       "       [0.86159969, 0.13840031],\n",
       "       [0.09554704, 0.90445296]])"
      ]
     },
     "execution_count": 44,
     "metadata": {},
     "output_type": "execute_result"
    }
   ],
   "source": [
    "# Train \n",
    "svc = SVC(gamma=0.5, probability=True).fit(X_train, y_train)\n",
    "\n",
    "# Predict\n",
    "y_hat = svc.predict_proba(X_test)\n",
    "\n",
    "y_hat[:5]"
   ]
  },
  {
   "cell_type": "markdown",
   "id": "ce0ab2df",
   "metadata": {},
   "source": [
    "## RandomForest"
   ]
  },
  {
   "cell_type": "code",
   "execution_count": 45,
   "id": "11864b34",
   "metadata": {},
   "outputs": [
    {
     "data": {
      "text/plain": [
       "array([[0.46, 0.54],\n",
       "       [0.  , 1.  ],\n",
       "       [1.  , 0.  ],\n",
       "       [0.92, 0.08],\n",
       "       [0.  , 1.  ]])"
      ]
     },
     "execution_count": 45,
     "metadata": {},
     "output_type": "execute_result"
    }
   ],
   "source": [
    "# Train\n",
    "rf = RandomForestClassifier(n_estimators=100, random_state=41, max_features=2).fit(X_train, y_train)\n",
    "\n",
    "# Predict\n",
    "rf.predict_proba(X_test)[:5] # negative class, positive class "
   ]
  },
  {
   "cell_type": "markdown",
   "id": "dbd3857d",
   "metadata": {},
   "source": [
    "## 1. Display the precision recall curve & average precision for SVM\n",
    "\n",
    "### 1.1 Precision-recall curve\n",
    "\n",
    "It focuses on the performance of a **classifier on the positive (minority class) only**.\n",
    "\n",
    "Precision is the ratio of the number of true positives divided by the sum of the true positives and false positives. It describes how good a model is at predicting the positive class. Recall is calculated as the ratio of the number of true positives divided by the sum of the true positives and the false negatives. Recall is the same as sensitivity.\n",
    "\n",
    "A precision-recall curve is calculated by creating crisp class labels for probability predictions across a set of thresholds and calculating the precision and recall for each threshold. A line plot is created for the thresholds in ascending order with recall on the x-axis and precision on the y-axis.\n",
    "\n",
    "If we are interested in a threshold that results in the best balance of precision and recall, then this is the same as optimizing the F-measure that summarizes the harmonic mean of both measures.\n",
    "\n",
    "F-Measure $ = {2 * Precision * Recall \\over Precision + Recall}$"
   ]
  },
  {
   "cell_type": "code",
   "execution_count": 6,
   "id": "386c19a8",
   "metadata": {},
   "outputs": [
    {
     "data": {
      "text/plain": [
       "(array([0.61111111, 0.58823529, 0.625     , 0.66666667, 0.71428571,\n",
       "        0.76923077, 0.75      , 0.81818182, 0.8       , 0.77777778,\n",
       "        0.75      , 0.85714286, 0.83333333, 0.8       , 0.75      ,\n",
       "        0.66666667, 0.5       , 1.        , 1.        ]),\n",
       " array([1.        , 0.90909091, 0.90909091, 0.90909091, 0.90909091,\n",
       "        0.90909091, 0.81818182, 0.81818182, 0.72727273, 0.63636364,\n",
       "        0.54545455, 0.54545455, 0.45454545, 0.36363636, 0.27272727,\n",
       "        0.18181818, 0.09090909, 0.09090909, 0.        ]),\n",
       " array([-0.9791845 , -0.90386743, -0.8941331 , -0.85154629, -0.80827384,\n",
       "        -0.66585271, -0.34734058,  0.10556372,  0.14017212,  0.38445219,\n",
       "         0.61400261,  0.83953687,  0.87939757,  0.96017829,  1.0301401 ,\n",
       "         1.04626156,  1.10296753,  1.11981545]))"
      ]
     },
     "execution_count": 6,
     "metadata": {},
     "output_type": "execute_result"
    }
   ],
   "source": [
    "precision, recall, thresholds = precision_recall_curve(y_test, svc.decision_function(X_test))\n",
    "\n",
    "precision, recall, thresholds"
   ]
  },
  {
   "cell_type": "code",
   "execution_count": 7,
   "id": "cf0c1e5f",
   "metadata": {},
   "outputs": [
    {
     "name": "stdout",
     "output_type": "stream",
     "text": [
      "precision[0]: 0.61, recall[0]: 1.0\n"
     ]
    }
   ],
   "source": [
    "# Threshold 0 is the default value\n",
    "close_zero = np.argmin(thresholds)\n",
    "print(f\"precision[{close_zero}]: {precision[close_zero]:.2}, recall[{close_zero}]: {recall[close_zero]}\")"
   ]
  },
  {
   "cell_type": "code",
   "execution_count": 8,
   "id": "9d80a66c",
   "metadata": {},
   "outputs": [
    {
     "name": "stdout",
     "output_type": "stream",
     "text": [
      "Best Threshold=-0.665853, F-Score=0.833\n"
     ]
    }
   ],
   "source": [
    "# convert to f score\n",
    "fscore = (2 * precision * recall) / (precision + recall)\n",
    "\n",
    "# locate the index of the largest f score\n",
    "ix = np.argmax(fscore)\n",
    "print('Best Threshold=%f, F-Score=%.3f' % (thresholds[ix], fscore[ix]))"
   ]
  },
  {
   "cell_type": "code",
   "execution_count": 9,
   "id": "a7c60977",
   "metadata": {},
   "outputs": [
    {
     "data": {
      "image/png": "[encoded data removed]",
      "text/plain": [
       "<Figure size 432x288 with 1 Axes>"
      ]
     },
     "metadata": {
      "needs_background": "light"
     },
     "output_type": "display_data"
    }
   ],
   "source": [
    "plt.plot(precision, recall, label=\"Precision recall curve SVM\")\n",
    "plt.plot(precision[close_zero], recall[close_zero], 'o', markersize=10, \n",
    "         label=\"Threshold zero\", fillstyle=\"none\", c='k', mew=2)\n",
    "\n",
    "plt.title('SVM')\n",
    "plt.xlabel('Precision')\n",
    "plt.xlabel('recall')\n",
    "plt.legend(loc=\"best\")\n",
    "plt.show()"
   ]
  },
  {
   "cell_type": "markdown",
   "id": "43855c00",
   "metadata": {},
   "source": [
    "### 1.1.1 Optimal Threshold Tuning"
   ]
  },
  {
   "cell_type": "code",
   "execution_count": 10,
   "id": "d2d06243",
   "metadata": {},
   "outputs": [
    {
     "data": {
      "text/plain": [
       "(array([0.75862069, 0.71428571, 0.74074074, 0.76923077, 0.8       ,\n",
       "        0.83333333, 0.7826087 , 0.81818182, 0.76190476, 0.7       ,\n",
       "        0.63157895, 0.66666667, 0.58823529, 0.5       , 0.4       ,\n",
       "        0.28571429, 0.15384615, 0.16666667, 0.        ]),\n",
       " 0.8333333333333333,\n",
       " 0.8181818181818182)"
      ]
     },
     "execution_count": 10,
     "metadata": {},
     "output_type": "execute_result"
    }
   ],
   "source": [
    "fscore = (2 * precision * recall) / (precision + recall)\n",
    "\n",
    "fscore, np.max(fscore), f1_score(y_test, svc.predict(X_test))"
   ]
  },
  {
   "cell_type": "code",
   "execution_count": 11,
   "id": "4fe43a6f",
   "metadata": {},
   "outputs": [],
   "source": [
    "# apply threshold to positive probabilities to create labels\n",
    "to_labels = lambda positive_probs, threshold: (positive_probs >= threshold).astype('int')"
   ]
  },
  {
   "cell_type": "code",
   "execution_count": 12,
   "id": "f7371640",
   "metadata": {},
   "outputs": [
    {
     "data": {
      "text/plain": [
       "(0.8181818181818182, 10, 0.6140026096464748, 0.8181818181818182)"
      ]
     },
     "execution_count": 12,
     "metadata": {},
     "output_type": "execute_result"
    }
   ],
   "source": [
    "# evaluate each threshold\n",
    "probs  = y_hat[:, 1] # Positive class only\n",
    "scores = [f1_score(y_test, to_labels(probs, threshold)) for threshold in thresholds]\n",
    "\n",
    "# threshold = 0.205 is better then 0 for SVM\n",
    "np.max(scores), np.argmax(scores), thresholds[np.argmax(scores)], f1_score(y_test, svc.predict(X_test))"
   ]
  },
  {
   "cell_type": "markdown",
   "id": "a98d22c1",
   "metadata": {},
   "source": [
    "### 1.2 Average Precision "
   ]
  },
  {
   "cell_type": "code",
   "execution_count": 49,
   "id": "36b5ed7d",
   "metadata": {},
   "outputs": [
    {
     "name": "stdout",
     "output_type": "stream",
     "text": [
      "Average precision: 0.75\n"
     ]
    }
   ],
   "source": [
    "ap_svc = average_precision_score(y_test, svc.predict(X_test))\n",
    "\n",
    "print(f\"Average precision: {ap_svc:.2f}\")"
   ]
  },
  {
   "cell_type": "markdown",
   "id": "57f82a52",
   "metadata": {},
   "source": [
    "## 2. Display the precision recall curve & Average precision for RandomForest"
   ]
  },
  {
   "cell_type": "markdown",
   "id": "fdd6d84b",
   "metadata": {},
   "source": [
    "### 2.1 Precision recall curve"
   ]
  },
  {
   "cell_type": "code",
   "execution_count": 14,
   "id": "9623bd2a",
   "metadata": {},
   "outputs": [
    {
     "data": {
      "text/plain": [
       "(array([0.44      , 0.55555556, 0.58823529, 0.625     , 0.66666667,\n",
       "        0.71428571, 0.76923077, 0.83333333, 0.81818182, 0.8       ,\n",
       "        0.77777778, 0.75      , 0.85714286, 0.83333333, 1.        ,\n",
       "        1.        , 1.        ]),\n",
       " array([1.        , 0.90909091, 0.90909091, 0.90909091, 0.90909091,\n",
       "        0.90909091, 0.90909091, 0.90909091, 0.81818182, 0.72727273,\n",
       "        0.63636364, 0.54545455, 0.54545455, 0.45454545, 0.45454545,\n",
       "        0.36363636, 0.        ]),\n",
       " array([0.  , 0.01, 0.02, 0.05, 0.08, 0.11, 0.2 , 0.37, 0.54, 0.62, 0.67,\n",
       "        0.71, 0.92, 0.94, 0.99, 1.  ]))"
      ]
     },
     "execution_count": 14,
     "metadata": {},
     "output_type": "execute_result"
    }
   ],
   "source": [
    "precision_rf, recall_rf, thresholds_rf = precision_recall_curve(y_test, rf.predict_proba(X_test)[:, 1])\n",
    "\n",
    "precision_rf, recall_rf, thresholds_rf"
   ]
  },
  {
   "cell_type": "code",
   "execution_count": 15,
   "id": "2b32a180",
   "metadata": {},
   "outputs": [
    {
     "name": "stdout",
     "output_type": "stream",
     "text": [
      "precision[8]: 0.82, recall[8]: 0.82\n"
     ]
    }
   ],
   "source": [
    "# Threshold 0.5 is the default value \n",
    "close_zero_rf = np.argmin(np.abs(thresholds_rf - 0.5))\n",
    "print(f\"precision[{close_zero_rf}]: {precision_rf[close_zero_rf]:.2}, recall[{close_zero_rf}]: {recall_rf[close_zero_rf]:.2}\")"
   ]
  },
  {
   "cell_type": "code",
   "execution_count": 16,
   "id": "21b36450",
   "metadata": {
    "scrolled": true
   },
   "outputs": [
    {
     "data": {
      "image/png": "[encoded data removed]",
      "text/plain": [
       "<Figure size 432x288 with 1 Axes>"
      ]
     },
     "metadata": {
      "needs_background": "light"
     },
     "output_type": "display_data"
    }
   ],
   "source": [
    "plt.plot(precision_rf, recall_rf, label=\"Precision recall curve RF\")\n",
    "plt.plot(precision_rf[close_zero_rf], recall_rf[close_zero_rf], 'o', markersize=10, \n",
    "         label=\"Threshold 0.5\", fillstyle=\"none\", c='k', mew=2)\n",
    "\n",
    "plt.title('RandomForest')\n",
    "plt.xlabel('Precision')\n",
    "plt.xlabel('recall')\n",
    "plt.legend(loc=\"best\")\n",
    "plt.show()"
   ]
  },
  {
   "cell_type": "markdown",
   "id": "62152cd0",
   "metadata": {},
   "source": [
    "### 2.2 Average precision"
   ]
  },
  {
   "cell_type": "code",
   "execution_count": 52,
   "id": "bf83c1ed",
   "metadata": {},
   "outputs": [
    {
     "name": "stdout",
     "output_type": "stream",
     "text": [
      "Average precision: 0.87\n"
     ]
    }
   ],
   "source": [
    "ap_rf = average_precision_score(y_test, rf.predict_proba(X_test)[:, 1])\n",
    "\n",
    "print(f\"Average precision: {ap_rf:.2f}\")"
   ]
  },
  {
   "cell_type": "markdown",
   "id": "0f65b984",
   "metadata": {},
   "source": [
    "### Display the precision recall curve for RandomForest VS SVM"
   ]
  },
  {
   "cell_type": "code",
   "execution_count": 17,
   "id": "7a92af71",
   "metadata": {},
   "outputs": [
    {
     "data": {
      "image/png": "[encoded data removed]",
      "text/plain": [
       "<Figure size 432x288 with 1 Axes>"
      ]
     },
     "metadata": {
      "needs_background": "light"
     },
     "output_type": "display_data"
    }
   ],
   "source": [
    "plt.plot(precision, recall, label=\"Precision recall curve SVM\")\n",
    "plt.plot(precision[close_zero], recall[close_zero], 'o', markersize=10, \n",
    "         label=\"Threshold zero\", fillstyle=\"none\", c='k', mew=2)\n",
    "\n",
    "plt.plot(precision_rf, recall_rf, label=\"Precision recall curve RF\")\n",
    "plt.plot(precision_rf[close_zero_rf], recall_rf[close_zero_rf], '^', markersize=10, \n",
    "         label=\"Threshold 0.5\", fillstyle=\"none\", c='k', mew=2)\n",
    "\n",
    "plt.title('Precision recall curve')\n",
    "plt.xlabel('Precision')\n",
    "plt.xlabel('recall')\n",
    "plt.legend(loc=\"best\")\n",
    "plt.show()"
   ]
  },
  {
   "cell_type": "markdown",
   "id": "a2d3af33",
   "metadata": {},
   "source": [
    "### Display the average precision for RandomForest VS SVM"
   ]
  },
  {
   "cell_type": "code",
   "execution_count": 59,
   "id": "c666f2db",
   "metadata": {},
   "outputs": [
    {
     "name": "stdout",
     "output_type": "stream",
     "text": [
      "Average precision for SVM: 0.87 - Accuracy for SVM: 0.84\n",
      "Average precision for RF:  0.75 - Accuracy for RF : 0.84\n"
     ]
    }
   ],
   "source": [
    "ap_svc = average_precision_score(y_test, rf.predict_proba(X_test)[:, 1])\n",
    "ap_rf  = average_precision_score(y_test, svc.predict(X_test))\n",
    "\n",
    "print(f\"Average precision for SVM: {ap_svc:.2f} - Accuracy for SVM: {svm.score(X_test, y_test)}\")\n",
    "print(f\"Average precision for RF:  {ap_rf:.2f} - Accuracy for RF : {rf.score(X_test, y_test)}\")"
   ]
  },
  {
   "cell_type": "markdown",
   "id": "64feeda4",
   "metadata": {},
   "source": [
    "## 2. ROC"
   ]
  },
  {
   "cell_type": "code",
   "execution_count": 26,
   "id": "85a81524",
   "metadata": {},
   "outputs": [
    {
     "data": {
      "text/plain": [
       "<matplotlib.legend.Legend at 0x1d2feff8880>"
      ]
     },
     "execution_count": 26,
     "metadata": {},
     "output_type": "execute_result"
    },
    {
     "data": {
      "image/png": "[encoded data removed]",
      "text/plain": [
       "<Figure size 432x288 with 1 Axes>"
      ]
     },
     "metadata": {
      "needs_background": "light"
     },
     "output_type": "display_data"
    }
   ],
   "source": [
    "tfr, tpr, thresholds = roc_curve(y_test, svc.decision_function(X_test))\n",
    "\n",
    "close_zero = np.argmin(np.abs(thresholds))\n",
    "\n",
    "plt.plot(tfr, tpr, label=\"Roc curve\")\n",
    "plt.plot(tfr[close_zero], tpr[close_zero], 'o', markersize=10, label=\"threshold zero\", fillstyle=\"none\", c=\"k\", mew=2)\n",
    "plt.xlabel(\"FPR\")\n",
    "plt.ylabel(\"TPR (Recall)\")\n",
    "plt.legend(loc=\"best\")"
   ]
  },
  {
   "cell_type": "markdown",
   "id": "c0acfd6b",
   "metadata": {},
   "source": [
    "## 3. AUC"
   ]
  },
  {
   "cell_type": "code",
   "execution_count": 42,
   "id": "08eb9cef",
   "metadata": {},
   "outputs": [
    {
     "name": "stdout",
     "output_type": "stream",
     "text": [
      "Gamma: 0.01 - Accuracy: 0.76 - AUC: 0.89\n",
      "Gamma: 0.05 - Accuracy: 0.80 - AUC: 0.90\n",
      "Gamma: 0.06 - Accuracy: 0.80 - AUC: 0.90\n",
      "Gamma: 0.50 - Accuracy: 0.84 - AUC: 0.86\n",
      "Gamma: 0.90 - Accuracy: 0.84 - AUC: 0.81\n",
      "Gamma: 1.00 - Accuracy: 0.84 - AUC: 0.81\n"
     ]
    }
   ],
   "source": [
    "for gamma in [0.01, 0.05, 0.06, 0.5, 0.9, 1.0]:\n",
    "    svm      = SVC(gamma=gamma).fit(X_train, y_train)\n",
    "    accuracy = svm.score(X_test, y_test)\n",
    "    auc      = roc_auc_score(y_test, svm.decision_function(X_test))\n",
    "    \n",
    "    print(f\"Gamma: {gamma:.2f} - Accuracy: {accuracy:.2f} - AUC: {auc:.2f}\")"
   ]
  },
  {
   "cell_type": "code",
   "execution_count": null,
   "id": "0fa38c11",
   "metadata": {},
   "outputs": [],
   "source": []
  }
 ],
 "metadata": {
  "kernelspec": {
   "display_name": "Python 3 (ipykernel)",
   "language": "python",
   "name": "python3"
  },
  "language_info": {
   "codemirror_mode": {
    "name": "ipython",
    "version": 3
   },
   "file_extension": ".py",
   "mimetype": "text/x-python",
   "name": "python",
   "nbconvert_exporter": "python",
   "pygments_lexer": "ipython3",
   "version": "3.8.12"
  }
 },
 "nbformat": 4,
 "nbformat_minor": 5
}
