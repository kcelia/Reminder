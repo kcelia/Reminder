{
 "cells": [
  {
   "cell_type": "code",
   "execution_count": 1,
   "id": "598b58c5",
   "metadata": {},
   "outputs": [],
   "source": [
    "import numpy as np\n",
    "\n",
    "import matplotlib.pyplot as plt\n",
    "import matplotlib.colors as clrs\n",
    "\n",
    "import sklearn.linear_model\n",
    "\n",
    "from sklearn.svm import SVC\n",
    "from sklearn.datasets import make_classification\n",
    "from sklearn.metrics import precision_recall_curve\n",
    "from sklearn.model_selection import train_test_split"
   ]
  },
  {
   "cell_type": "markdown",
   "id": "34e25e25",
   "metadata": {},
   "source": [
    "## Dataset\n",
    "\n",
    "Generating random generated data:"
   ]
  },
  {
   "cell_type": "code",
   "execution_count": 2,
   "id": "8aa2fcfa",
   "metadata": {},
   "outputs": [
    {
     "data": {
      "text/plain": [
       "((100, 2), (100,), (100,), (100,))"
      ]
     },
     "execution_count": 2,
     "metadata": {},
     "output_type": "execute_result"
    }
   ],
   "source": [
    "X, y = make_classification(n_features=2, n_redundant=0, n_informative=2, random_state=41, n_clusters_per_class=2)\n",
    "\n",
    "X.shape, y.shape, X[:, 0].shape, X[:, 1].shape"
   ]
  },
  {
   "cell_type": "markdown",
   "id": "9116232a",
   "metadata": {},
   "source": [
    "Displaying dataset"
   ]
  },
  {
   "cell_type": "code",
   "execution_count": 3,
   "id": "23774b91",
   "metadata": {},
   "outputs": [
    {
     "data": {
      "image/png": "[encoded data removed]",
      "text/plain": [
       "<Figure size 432x288 with 1 Axes>"
      ]
     },
     "metadata": {
      "needs_background": "light"
     },
     "output_type": "display_data"
    }
   ],
   "source": [
    "plt.plot(X[:, 0][y==0], X[:, 1][y==0], \"g^\")\n",
    "plt.plot(X[:, 0][y==1], X[:, 1][y==1], \"bs\")\n",
    "\n",
    "plt.title('Dataset')\n",
    "plt.xlabel('$X_1$')\n",
    "plt.ylabel('$X_2$')\n",
    "plt.show()"
   ]
  },
  {
   "cell_type": "markdown",
   "id": "8b5d5b47",
   "metadata": {},
   "source": [
    " ## Train"
   ]
  },
  {
   "cell_type": "code",
   "execution_count": 4,
   "id": "89a7903c",
   "metadata": {},
   "outputs": [],
   "source": [
    "X_train, X_test, y_train, y_test = train_test_split(X, y, random_state=41)"
   ]
  },
  {
   "cell_type": "code",
   "execution_count": 5,
   "id": "a971d509",
   "metadata": {},
   "outputs": [],
   "source": [
    "svc = SVC(gamma=0.5).fit(X_train, y_train)"
   ]
  },
  {
   "cell_type": "markdown",
   "id": "7c366093",
   "metadata": {},
   "source": [
    "## Display the precision recall curve"
   ]
  },
  {
   "cell_type": "code",
   "execution_count": 6,
   "id": "7ec2c741",
   "metadata": {},
   "outputs": [
    {
     "data": {
      "text/plain": [
       "(array([0.61111111, 0.58823529, 0.625     , 0.66666667, 0.71428571,\n",
       "        0.76923077, 0.75      , 0.81818182, 0.8       , 0.77777778,\n",
       "        0.75      , 0.85714286, 0.83333333, 0.8       , 0.75      ,\n",
       "        0.66666667, 0.5       , 1.        , 1.        ]),\n",
       " array([1.        , 0.90909091, 0.90909091, 0.90909091, 0.90909091,\n",
       "        0.90909091, 0.81818182, 0.81818182, 0.72727273, 0.63636364,\n",
       "        0.54545455, 0.54545455, 0.45454545, 0.36363636, 0.27272727,\n",
       "        0.18181818, 0.09090909, 0.09090909, 0.        ]),\n",
       " array([-0.9791845 , -0.90386743, -0.8941331 , -0.85154629, -0.80827384,\n",
       "        -0.66585271, -0.34734058,  0.10556372,  0.14017212,  0.38445219,\n",
       "         0.61400261,  0.83953687,  0.87939757,  0.96017829,  1.0301401 ,\n",
       "         1.04626156,  1.10296753,  1.11981545]))"
      ]
     },
     "execution_count": 6,
     "metadata": {},
     "output_type": "execute_result"
    }
   ],
   "source": [
    "precision, recall, thresholds = precision_recall_curve(y_test, svc.decision_function(X_test))\n",
    "\n",
    "precision, recall, thresholds"
   ]
  },
  {
   "cell_type": "code",
   "execution_count": 7,
   "id": "0fd1bade",
   "metadata": {},
   "outputs": [
    {
     "name": "stdout",
     "output_type": "stream",
     "text": [
      "precision[0]: 0.61, recall[0]: 1.0\n"
     ]
    }
   ],
   "source": [
    "# Threshold 0 is the default value\n",
    "close_zero = np.argmin(thresholds)\n",
    "print(f\"precision[{close_zero}]: {precision[close_zero]:.2}, recall[{close_zero}]: {recall[close_zero]}\")"
   ]
  },
  {
   "cell_type": "code",
   "execution_count": 9,
   "id": "c3d945af",
   "metadata": {},
   "outputs": [
    {
     "data": {
      "image/png": "[encoded data removed]",
      "text/plain": [
       "<Figure size 432x288 with 1 Axes>"
      ]
     },
     "metadata": {
      "needs_background": "light"
     },
     "output_type": "display_data"
    }
   ],
   "source": [
    "plt.plot(precision, recall, label=\"Precision recall curve\")\n",
    "plt.plot(precision[close_zero], recall[close_zero], 'o', markersize=10, \n",
    "         label=\"Threshold zero\", fillstyle=\"none\", c='k', mew=2)\n",
    "\n",
    "plt.xlabel('Precision')\n",
    "plt.xlabel('recall')\n",
    "plt.legend(loc=\"best\")\n",
    "plt.show()"
   ]
  },
  {
   "cell_type": "code",
   "execution_count": null,
   "id": "8e52a388",
   "metadata": {},
   "outputs": [],
   "source": []
  }
 ],
 "metadata": {
  "kernelspec": {
   "display_name": "Python 3 (ipykernel)",
   "language": "python",
   "name": "python3"
  },
  "language_info": {
   "codemirror_mode": {
    "name": "ipython",
    "version": 3
   },
   "file_extension": ".py",
   "mimetype": "text/x-python",
   "name": "python",
   "nbconvert_exporter": "python",
   "pygments_lexer": "ipython3",
   "version": "3.8.12"
  }
 },
 "nbformat": 4,
 "nbformat_minor": 5
}
