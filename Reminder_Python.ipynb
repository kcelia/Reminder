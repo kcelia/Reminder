{
 "cells": [
  {
   "cell_type": "markdown",
   "metadata": {},
   "source": [
    "# Python 3.\n",
    "\n",
    "- Interpreted (quick)\n",
    "- Functional\n",
    "- Object Oriented\n",
    "- Inbuilt Libraries (rapid development)\n",
    "- Third Party modules \n",
    "- Simple Syntaxe (easy to learn/use)\n",
    "- Dynamically Typed \n",
    "- Community\n",
    "\n",
    "\n",
    "Labrary Numpy (numeric in python)"
   ]
  },
  {
   "cell_type": "markdown",
   "metadata": {},
   "source": [
    "Python 2.7 release bridges the gap between the old"
   ]
  },
  {
   "cell_type": "markdown",
   "metadata": {},
   "source": [
    "#### Standard libraries in Python:\n",
    "\n",
    "`time, sys, os, math, random, pickle, urllib, re, cgi, socket, warning...`\n",
    "\n",
    "More: https://docs.python.org/3/library/"
   ]
  },
  {
   "cell_type": "code",
   "execution_count": 1,
   "metadata": {},
   "outputs": [],
   "source": [
    "import os\n",
    "import sys # Introspection\n",
    "import time \n",
    "import string\n",
    "import numpy as np\n",
    "import pandas as pd\n",
    "import seaborn as sns\n",
    "import matplotlib.pyplot as plt\n",
    "\n",
    "from glob import glob \n",
    "from pprint import pprint \n",
    "from inspect import signature\n",
    "from collections import Counter, defaultdict, OrderedDict"
   ]
  },
  {
   "cell_type": "code",
   "execution_count": null,
   "metadata": {},
   "outputs": [],
   "source": [
    "################# Dtype\n",
    "print(f\"type(3 + 4j): {type(3 + 4j)}\")\n",
    "print(f\"0B1010: {0B1010}, type(0B1010): {type(0B1010)}\")\n",
    "print(f\"0XFF: {0XFF}, type(0XFF): {type(0XFF)}\")"
   ]
  },
  {
   "cell_type": "code",
   "execution_count": null,
   "metadata": {},
   "outputs": [],
   "source": [
    "################# String\n",
    "s = \"Salut\"\n",
    "print(s[::-1], s[4::-1], s[3::-1])\n",
    "print(\".  Hello World  .\", \"  Hello World  \".strip(), \" ->\", len(\"  Hello World  \".strip()))\n",
    "print(\".  Hello World  .\", \"  Hello World  \".lstrip(), \"->\", len(\"  Hello World  \".lstrip()))\n",
    "print(\".  Hello World  .\", \"  Hello World  \".rstrip(), \"->\", len(\"  Hello World  \".rstrip()))"
   ]
  },
  {
   "cell_type": "markdown",
   "metadata": {},
   "source": [
    "## List\n",
    "\n",
    "Une list python normale est un groupe de pointeurs pour séparer des objects Pythons\n",
    "\n",
    "<!> les tableaux Numpy utilisent moins de mémoire que les listes pyton normales, car ils sont conçus pour être un tableau uniformes, n'utilisent pas d'espace mémoire supplémentaires pour les pointeurs\n",
    "\n",
    "<!> Créer une copie des tableaux si vous voulez les modifier "
   ]
  },
  {
   "cell_type": "code",
   "execution_count": null,
   "metadata": {},
   "outputs": [],
   "source": [
    "################# List\n",
    "l = [3, 5, 4]\n",
    "l_old = l[:]\n",
    "l.sort()\n",
    "print(f\"l = {l_old}; l.sort(): {l}\")"
   ]
  },
  {
   "cell_type": "code",
   "execution_count": null,
   "metadata": {},
   "outputs": [],
   "source": [
    "l = [3, 5, 4]\n",
    "l_old = l[:]\n",
    "sorted(l)\n",
    "print(f\"l = {l_old}; l.sort(): {l}\")"
   ]
  },
  {
   "cell_type": "code",
   "execution_count": null,
   "metadata": {},
   "outputs": [],
   "source": [
    "# 3 ways to copy a list\n",
    "\n",
    "# 1. Slice:\n",
    "l = [3, 5, 4, 11]\n",
    "l_copy = l[:]\n",
    "l[0] = 12332\n",
    "print(f\"l_copy: {l_copy}\")\n",
    "\n",
    "# 2. Converting: \n",
    "l = [3, 5, 4, 11]\n",
    "l_copy = list(l)\n",
    "l[0] = 12332\n",
    "print(f\"l_copy: {l_copy}\")\n",
    "\n",
    "# 3. copy: \n",
    "l = [3, 5, 4, 11]\n",
    "l_copy = l.copy()\n",
    "l[0] = 12332\n",
    "print(f\"l_copy: {l_copy}\")"
   ]
  },
  {
   "cell_type": "markdown",
   "metadata": {},
   "source": [
    "Lists are stored as strings within Pandas DataFrames. \n",
    "\n",
    "```Python\n",
    "import ast\n",
    "\n",
    "df['organizations'] = df['organizations'].apply(lambda x: ast.literal_eval(x))\n",
    "\n",
    "```\n"
   ]
  },
  {
   "cell_type": "code",
   "execution_count": null,
   "metadata": {},
   "outputs": [],
   "source": [
    "### Flatten a list of list\n",
    "\n",
    "# Method 1\n",
    "sum([[4, 45], [6, 335]], []), sum([[[4, 45], [6, 335]]], [])"
   ]
  },
  {
   "cell_type": "markdown",
   "metadata": {},
   "source": [
    "## Tuple"
   ]
  },
  {
   "cell_type": "code",
   "execution_count": null,
   "metadata": {},
   "outputs": [],
   "source": [
    "## tuple : Immutable list, ordered, used when data shouldn't change\n",
    "\n",
    "print(f\"type((40): {type((40))}, type((40,)): {type((40,))}\")\n",
    "\n",
    "t = (5, 6)\n",
    "# t[0] = 555 Cannot change the data in a tuple\n",
    "# TypeError: 'tuple' object does not support item assignment"
   ]
  },
  {
   "cell_type": "code",
   "execution_count": null,
   "metadata": {},
   "outputs": [],
   "source": [
    "tuple_ = (34, 23)\n",
    "\n",
    "print(\"{}\".format(*tuple_))\n",
    "print(\"{}_{}\".format(*tuple_))"
   ]
  },
  {
   "cell_type": "markdown",
   "metadata": {},
   "source": [
    "## Flatten loop"
   ]
  },
  {
   "cell_type": "code",
   "execution_count": null,
   "metadata": {},
   "outputs": [],
   "source": [
    "############### For loop\n",
    "l = []\n",
    "for x in [3, 4, 5]:\n",
    "    for y in [6, 7, 8]:\n",
    "        l.append(x * y)\n",
    "        \n",
    "(l, [x * y for x in [3, 4, 5] for y in [6, 7, 8]])"
   ]
  },
  {
   "cell_type": "code",
   "execution_count": null,
   "metadata": {},
   "outputs": [],
   "source": [
    "liste_finale = []\n",
    "for a in range(10):\n",
    "    for b in range(2):\n",
    "        liste_finale.append((a, b))\n",
    "        \n",
    "liste_finale = [(a, b) for a in range(10) for b in range(2)]"
   ]
  },
  {
   "cell_type": "code",
   "execution_count": null,
   "metadata": {},
   "outputs": [],
   "source": [
    "g = (x for x in range(3))\n",
    "print(f\"g: {g}, list(g): {list(g)}\")"
   ]
  },
  {
   "cell_type": "markdown",
   "metadata": {},
   "source": [
    "# Set\n",
    "\n",
    "Unique et immuable\n",
    "\n",
    "N'accepte pas de objects muables"
   ]
  },
  {
   "cell_type": "code",
   "execution_count": null,
   "metadata": {},
   "outputs": [],
   "source": [
    "my_set = {3, 4, \"celia\", (3, 4)}\n",
    "my_set.add(5); my_set.add(5); my_set.add(1)\n",
    "my_set"
   ]
  },
  {
   "cell_type": "code",
   "execution_count": null,
   "metadata": {},
   "outputs": [],
   "source": [
    "my_set.update([6, 'Pierre']) # Ajoute des élements et non une liste\n",
    "my_set.discard('Dehia') # Remove sans erreur si la key n'existe pas\n",
    "my_set"
   ]
  },
  {
   "cell_type": "code",
   "execution_count": null,
   "metadata": {},
   "outputs": [],
   "source": [
    "a = {1, 3, 5, 6}\n",
    "b = {2, 4, 6}\n",
    "a.union(b) # Or a | b"
   ]
  },
  {
   "cell_type": "code",
   "execution_count": null,
   "metadata": {},
   "outputs": [],
   "source": [
    "a.intersection(b) # OR a & b"
   ]
  },
  {
   "cell_type": "code",
   "execution_count": null,
   "metadata": {},
   "outputs": [],
   "source": [
    "a.difference(b) # Or a - b "
   ]
  },
  {
   "cell_type": "code",
   "execution_count": null,
   "metadata": {},
   "outputs": [],
   "source": [
    "b ^ a # Difference symetrique, element dans A et B mais pas dans les deux"
   ]
  },
  {
   "cell_type": "markdown",
   "metadata": {},
   "source": [
    "## Fastest way to find an item "
   ]
  },
  {
   "cell_type": "code",
   "execution_count": null,
   "metadata": {},
   "outputs": [],
   "source": [
    "l = [24, 3445, 435345, 'fff']"
   ]
  },
  {
   "cell_type": "code",
   "execution_count": null,
   "metadata": {},
   "outputs": [],
   "source": [
    "# Fastest way\n",
    "set(l) & set([3])"
   ]
  },
  {
   "cell_type": "code",
   "execution_count": null,
   "metadata": {},
   "outputs": [],
   "source": [
    "# Other ways, but less faster\n",
    "3 in l, 3 in set(l) #, [3] in dict(l)"
   ]
  },
  {
   "cell_type": "markdown",
   "metadata": {},
   "source": [
    "## Fastest way to substract 2 sets"
   ]
  },
  {
   "cell_type": "code",
   "execution_count": null,
   "metadata": {},
   "outputs": [],
   "source": [
    "set([1, 2, 3, 4, 5]) - set([1, 23, 4])"
   ]
  },
  {
   "cell_type": "markdown",
   "metadata": {},
   "source": [
    "## Bugs in Python"
   ]
  },
  {
   "cell_type": "code",
   "execution_count": null,
   "metadata": {},
   "outputs": [],
   "source": [
    "# change d'abord la list qui est référencée par un pointeur\n",
    "# puis essaye de mettre le tuple => on obtient une erreur\n",
    "# mais comme le tuple \n",
    "x = (3, 34, [45, 44])\n",
    "x[2] += [2, 4]"
   ]
  },
  {
   "cell_type": "code",
   "execution_count": null,
   "metadata": {},
   "outputs": [],
   "source": [
    "# The list has been updated anymay\n",
    "x"
   ]
  },
  {
   "cell_type": "markdown",
   "metadata": {},
   "source": [
    "# Try Except"
   ]
  },
  {
   "cell_type": "code",
   "execution_count": null,
   "metadata": {},
   "outputs": [],
   "source": [
    "############# Try Except\n",
    "try: \n",
    "    x = 10 + '10'\n",
    "except: \n",
    "    print(\"10 + '10' is Wrong\")\n",
    "else: \n",
    "    print(x)"
   ]
  },
  {
   "cell_type": "code",
   "execution_count": null,
   "metadata": {},
   "outputs": [],
   "source": [
    "try:\n",
    "    f = open('testfile', 'r')\n",
    "    f.write(\"write a test line\")\n",
    "except TypeError:\n",
    "    print(\"TypeErorr\\n\")\n",
    "except OSError:\n",
    "    print(\"OSError\")\n",
    "except:\n",
    "    print(\"All exceptions\\n\")\n",
    "finally:\n",
    "    print(\"Always run\")"
   ]
  },
  {
   "cell_type": "code",
   "execution_count": null,
   "metadata": {},
   "outputs": [],
   "source": [
    "# Read -> Error\n",
    "with open(\"./file_not_exists\", 'w') as f:\n",
    "    print(f)\n",
    "\n",
    "glob(\"./file_not_exists\")"
   ]
  },
  {
   "cell_type": "markdown",
   "metadata": {},
   "source": [
    "# Path"
   ]
  },
  {
   "cell_type": "code",
   "execution_count": null,
   "metadata": {},
   "outputs": [],
   "source": [
    "current_file   = os.__file__\n",
    "current_folder = os.path.dirname(os.__file__)\n",
    "\n",
    "current_folder, current_file"
   ]
  },
  {
   "cell_type": "code",
   "execution_count": null,
   "metadata": {},
   "outputs": [],
   "source": [
    "def chemin(dossier, fichier, extension='txt'):\n",
    "    return os.path.join(dossier, f\"{fichier}.{extension}\")\n",
    "\n",
    "data = {'dossier': r'C:\\Users\\845698\\Desktop', 'fichier': 'tutoriel', 'extension': 'py'}\n",
    "\n",
    "chemin(**data)"
   ]
  },
  {
   "cell_type": "code",
   "execution_count": null,
   "metadata": {},
   "outputs": [],
   "source": [
    "def concatenation_chemin(*args):\n",
    "    return os.path.normpath(os.path.join(*args))\n",
    "\n",
    "concatenation_chemin('C:/Utilisateurs', 'ThibH', 'Images')"
   ]
  },
  {
   "cell_type": "markdown",
   "metadata": {},
   "source": [
    "# Args et Kwargs"
   ]
  },
  {
   "cell_type": "code",
   "execution_count": null,
   "metadata": {},
   "outputs": [],
   "source": [
    "t = (1, 2, 3, 4, 3)\n",
    "\n",
    "a, b, *c = t\n",
    "\n",
    "print(f\"a: {a}\\nb: {b}\\nc: {c}\")"
   ]
  },
  {
   "cell_type": "code",
   "execution_count": null,
   "metadata": {},
   "outputs": [],
   "source": [
    "a, *b, c = t\n",
    "\n",
    "print(f\"a: {a}\\nb: {b}\\nc: {c}\")"
   ]
  },
  {
   "cell_type": "code",
   "execution_count": null,
   "metadata": {},
   "outputs": [],
   "source": [
    "def addition(*args): # Arguments non nommés\n",
    "    return sum(args)\n",
    "print(addition(5, 3, 5))"
   ]
  },
  {
   "cell_type": "code",
   "execution_count": null,
   "metadata": {},
   "outputs": [],
   "source": [
    "def list_invites(invite_vip, *args, **kwargs):\n",
    "    print(f\"{invite_vip} est un VIP\")\n",
    "    # args est un tuple\n",
    "    for invite in args:\n",
    "        print(f\"{invite} est un invité normal\")\n",
    "    # kwargs est un dico\n",
    "    invites = kwargs.get(\"indesirable\")\n",
    "    if invites: \n",
    "        print(f\"{', '.join(invites)} sont des invités indesirables\")\n",
    "    print()\n",
    "\n",
    "list_invites('Mama')\n",
    "list_invites('Celia', 'Dehia', 'Ines')\n",
    "list_invites('Celia', 'Dehia', 'Ines', indesirable=[\"Hitler\", \"Marine\"])"
   ]
  },
  {
   "cell_type": "code",
   "execution_count": null,
   "metadata": {},
   "outputs": [],
   "source": [
    "def list_invites(**kwargs):\n",
    "    print(kwargs)\n",
    "list_invites(indesirable=[\"Hitler\", \"Marine\"], desirable=[\"Celia\"])"
   ]
  },
  {
   "cell_type": "markdown",
   "metadata": {},
   "source": [
    "### How many parameters does our function have ?"
   ]
  },
  {
   "cell_type": "code",
   "execution_count": null,
   "metadata": {},
   "outputs": [],
   "source": [
    "def func(param1, param2=\"Ilyan\", *args, **kwargs):\n",
    "    print(\"hello\")"
   ]
  },
  {
   "cell_type": "code",
   "execution_count": null,
   "metadata": {},
   "outputs": [],
   "source": [
    "# Method 1\n",
    "\n",
    "sig = signature(func)\n",
    "\n",
    "print(f\"{type(sig)} - {str(sig)}\\n\")\n",
    "\n",
    "for name, param in sig.parameters.items():\n",
    "    print(f\"{param.kind}: {name} - {param.default}\")"
   ]
  },
  {
   "cell_type": "code",
   "execution_count": null,
   "metadata": {},
   "outputs": [],
   "source": [
    "# Method 2\n",
    "\n",
    "print(f\"{func.__code__.co_argcount}\") # gives you number of any arguments BEFORE *args\n",
    "\n",
    "print(f\"{func.__kwdefaults__ }\") # gives you a dict of the keyword arguments AFTER *args\n",
    "\n",
    "print(f\"{func.__code__.co_kwonlyargcount}\") # is equal to len(func.__kwdefaults__)\n",
    "\n",
    "print(f\"{func.__defaults__}\") # gives you the values of optional arguments that appear before *args"
   ]
  },
  {
   "cell_type": "markdown",
   "metadata": {},
   "source": [
    "# Any et All"
   ]
  },
  {
   "cell_type": "code",
   "execution_count": null,
   "metadata": {},
   "outputs": [],
   "source": [
    "any(a > 18 for a in [12, 34, 20, 19])"
   ]
  },
  {
   "cell_type": "code",
   "execution_count": null,
   "metadata": {},
   "outputs": [],
   "source": [
    "all(a > 1 for a in [12, 34, 20, 19])"
   ]
  },
  {
   "cell_type": "code",
   "execution_count": null,
   "metadata": {},
   "outputs": [],
   "source": [
    "all([False, False])"
   ]
  },
  {
   "cell_type": "code",
   "execution_count": null,
   "metadata": {},
   "outputs": [],
   "source": [
    "all([2, 4, 'Ilyan'])"
   ]
  },
  {
   "cell_type": "markdown",
   "metadata": {},
   "source": [
    "# Sort lambda"
   ]
  },
  {
   "cell_type": "code",
   "execution_count": null,
   "metadata": {},
   "outputs": [],
   "source": [
    "# Fonction anonyme = sur une ligne = lambda \n",
    "\n",
    "users = [('user2', 23), ('user1', 30), ('user5', 2)]\n",
    "users.sort(key=lambda x: x[0])\n",
    "# users"
   ]
  },
  {
   "cell_type": "markdown",
   "metadata": {},
   "source": [
    "# Iterator"
   ]
  },
  {
   "cell_type": "code",
   "execution_count": null,
   "metadata": {},
   "outputs": [],
   "source": [
    "# Iterator 1\n",
    "s_itr = iter('lettre') # next(s) --> Error\n",
    "print(f\"type(i): {type(s_itr)}\")\n",
    "print(f\"First letter: {next(s_itr)}\\n\" + \n",
    "      f\"Second letter: {next(s_itr)}\")"
   ]
  },
  {
   "cell_type": "code",
   "execution_count": null,
   "metadata": {},
   "outputs": [],
   "source": [
    "# Iterator 2\n",
    "i = iter(\"CELIA\")\n",
    "print(f\"type(i): {type(i)}\")\n",
    "print(f\"First letter: {i.__next__()}\\n\" + \n",
    "      f\"Second letter: {i.__next__()}\")"
   ]
  },
  {
   "cell_type": "code",
   "execution_count": null,
   "metadata": {},
   "outputs": [],
   "source": [
    "class custom_range:\n",
    "    def __init__(self, maximum):\n",
    "        self.i = 0\n",
    "        self.maximum = maximum \n",
    "        \n",
    "    def __iter__(self):\n",
    "        return self \n",
    "    \n",
    "    def __next__(self):\n",
    "        if self.i < self.maximum:\n",
    "            i = self.i\n",
    "            self.i += 1\n",
    "            return i\n",
    "        else: \n",
    "            raise StopIteration()\n",
    "a = custom_range(10)\n",
    "\n",
    "print(f\"First:{a.__next__()} -> Second:{a.__next__()}\\n\")\n",
    "\n",
    "print(\"The rest:\")\n",
    "for i in a: \n",
    "    print(i)"
   ]
  },
  {
   "cell_type": "markdown",
   "metadata": {},
   "source": [
    "## Yield"
   ]
  },
  {
   "cell_type": "code",
   "execution_count": null,
   "metadata": {},
   "outputs": [],
   "source": [
    "def func():\n",
    "    for i in range(4):\n",
    "        # always inside a function\n",
    "        yield i\n",
    "       \n",
    "f = func()\n",
    "print(f\"func(): {func()} -> list(func()): {list(func())}\\n\")\n",
    "print(f\"Next_1: {next(f)} -> Next_2: {next(f)} -> Next_3: {next(f)} -> Next_4: {next(f)}\")\n",
    "# print(f\"Next_5: {next(f)}) # Error Stop Iteration"
   ]
  },
  {
   "cell_type": "code",
   "execution_count": null,
   "metadata": {},
   "outputs": [],
   "source": [
    "# Generateur\n",
    "# Mot clef 'yiel' + Pause + plus facile qu'un itérateur\n",
    "\n",
    "def exemple_generateur():\n",
    "    yield 1\n",
    "    yield 2\n",
    "\n",
    "generateur = exemple_generateur()\n",
    "\n",
    "print(f\"type(generateur): {type(generateur)}\")\n",
    "print(f\"First: {generateur.__next__()}\\n\" + \n",
    "      f\"Second: {generateur.__next__()}\")\n",
    "\n",
    "# generateur.__next__() #ERROR"
   ]
  },
  {
   "cell_type": "code",
   "execution_count": null,
   "metadata": {},
   "outputs": [],
   "source": [
    "def custom_range(n):\n",
    "    for i in range(1, n + 1):\n",
    "        yield i # return + pause\n",
    "g = custom_range(5)\n",
    "\n",
    "for i in g:\n",
    "    print(i)"
   ]
  },
  {
   "cell_type": "markdown",
   "metadata": {},
   "source": [
    "# Variable locale vs globale"
   ]
  },
  {
   "cell_type": "code",
   "execution_count": null,
   "metadata": {},
   "outputs": [],
   "source": [
    "c = 23\n",
    "def funct():\n",
    "    print(c)\n",
    "    # c += 1\n",
    "    # UnboundLocalError: local variable 'c' referenced before assignment\n",
    "    # On ne peut pas faire cela, car il pense que c'est une variable locale"
   ]
  },
  {
   "cell_type": "markdown",
   "metadata": {},
   "source": [
    "# Counter"
   ]
  },
  {
   "cell_type": "code",
   "execution_count": null,
   "metadata": {},
   "outputs": [],
   "source": [
    "l, s = list(range(4)), \"Hello\"\n",
    "l, s"
   ]
  },
  {
   "cell_type": "code",
   "execution_count": null,
   "metadata": {},
   "outputs": [],
   "source": [
    "counter_l, counter_s = Counter(l), Counter(s)\n",
    "counter_l, counter_s"
   ]
  },
  {
   "cell_type": "code",
   "execution_count": null,
   "metadata": {},
   "outputs": [],
   "source": [
    "counter_s.values(), list(counter_s)"
   ]
  },
  {
   "cell_type": "markdown",
   "metadata": {},
   "source": [
    "# Dict"
   ]
  },
  {
   "cell_type": "code",
   "execution_count": null,
   "metadata": {},
   "outputs": [],
   "source": [
    "# Example \n",
    "dico = {'k': 23}\n",
    "# dico['h']: Error"
   ]
  },
  {
   "cell_type": "code",
   "execution_count": null,
   "metadata": {},
   "outputs": [],
   "source": [
    "# Example \n",
    "dico = { 'Celia': 25, 'Dehia': 23}\n",
    "prenom = 'Ilyan'\n",
    "\n",
    "print(dic.get(prenom)) # None\n",
    "print(dic.get(prenom, f\"{prenom} n'est pas dans le registre\")) # Else None"
   ]
  },
  {
   "cell_type": "code",
   "execution_count": null,
   "metadata": {},
   "outputs": [],
   "source": [
    "# Reverse dict\n",
    "\n",
    "# Method 1\n",
    "dico = {\"Celia\": 26, \"Dehia\": 24}\n",
    "dict(zip(dico_.values(), dico_.keys()))"
   ]
  },
  {
   "cell_type": "code",
   "execution_count": null,
   "metadata": {},
   "outputs": [],
   "source": [
    "# defaultdict: Example \n",
    "dico = defaultdict(lambda: 0) # By default, every values is set to 0\n",
    "dico[\"Celia\"]"
   ]
  },
  {
   "cell_type": "code",
   "execution_count": null,
   "metadata": {},
   "outputs": [],
   "source": [
    "# defaultdict: Example\n",
    "dico1 = {}\n",
    "for lettre in 'anticonstitutionnellement':\n",
    "    if not dico1.get(lettre):\n",
    "        dico1[lettre] = 1\n",
    "    else:\n",
    "        dico1[lettre] +=1\n",
    "  \n",
    "## Better way\n",
    "dico2 = defaultdict(int)# 0 to all items by default\n",
    "\n",
    "for lettre in 'anticonstitutionnellement':\n",
    "    dico2[lettre] +=1\n",
    "    \n",
    "dico1, dico2"
   ]
  },
  {
   "cell_type": "code",
   "execution_count": null,
   "metadata": {},
   "outputs": [],
   "source": [
    "# OrderedDict\n",
    "\n",
    "dico = OrderedDict()\n",
    "dico[\"1\"] = 1\n",
    "dico[\"Celia\"] = list(range(3))\n",
    "dico[\"alphabet\"] = {d: i for i, d in enumerate(string.ascii_lowercase)}\n",
    "\n",
    "dico.items()"
   ]
  },
  {
   "cell_type": "markdown",
   "metadata": {},
   "source": [
    "# pprint & fprint"
   ]
  },
  {
   "cell_type": "code",
   "execution_count": null,
   "metadata": {},
   "outputs": [],
   "source": [
    "print('\\tHello') # Tabulation"
   ]
  },
  {
   "cell_type": "code",
   "execution_count": null,
   "metadata": {},
   "outputs": [],
   "source": [
    "pprint(dico, indent=1)"
   ]
  },
  {
   "cell_type": "code",
   "execution_count": null,
   "metadata": {},
   "outputs": [],
   "source": [
    "print(f\"Debut-{23:10}-Fin\")\n",
    "print(f\"Debut-{23:>10}-Fin\")\n",
    "print(f\"Debut-{23:=>10}-Fin\")"
   ]
  },
  {
   "cell_type": "code",
   "execution_count": null,
   "metadata": {},
   "outputs": [],
   "source": [
    "print(f\"Debut-{23:<10}-Fin\")\n",
    "print(f\"Debut-{23:=<10}-Fin\")\n",
    "print(f\"Debut-{23:+^10}-Fin\")"
   ]
  },
  {
   "cell_type": "code",
   "execution_count": null,
   "metadata": {},
   "outputs": [],
   "source": [
    "# Round\n",
    "print(f\"Debut-{23.7899:.3}-Fin\") \n",
    "print(f\"Debut-{23.7899:.3f}-Fin\")"
   ]
  },
  {
   "cell_type": "code",
   "execution_count": null,
   "metadata": {},
   "outputs": [],
   "source": [
    "print('-'.join([str(r) for r in [3, 4, 5, None]]))\n",
    "print('-'.join(map(str, [4, 5, None])))"
   ]
  },
  {
   "cell_type": "code",
   "execution_count": null,
   "metadata": {},
   "outputs": [],
   "source": [
    "print(*[3, 4, 5, None], sep='-')"
   ]
  },
  {
   "cell_type": "markdown",
   "metadata": {},
   "source": [
    "# Filter"
   ]
  },
  {
   "cell_type": "code",
   "execution_count": null,
   "metadata": {},
   "outputs": [],
   "source": [
    "list(filter(lambda x: x, [None, \"Celia\", \"Dehia\"]))"
   ]
  },
  {
   "cell_type": "code",
   "execution_count": null,
   "metadata": {},
   "outputs": [],
   "source": [
    "list(filter(None, [None, \"Celia\", \"Dehia\"]))"
   ]
  },
  {
   "cell_type": "code",
   "execution_count": null,
   "metadata": {},
   "outputs": [],
   "source": [
    "list(filter(lambda x: x == \"Celia\", [None, \"Celia\", \"Dehia\"]))"
   ]
  },
  {
   "cell_type": "markdown",
   "metadata": {},
   "source": [
    "# sys"
   ]
  },
  {
   "cell_type": "code",
   "execution_count": null,
   "metadata": {},
   "outputs": [],
   "source": [
    "print(sys.version)\n",
    "print(sys.version_info.major)\n",
    "print(sys.version_info.minor)"
   ]
  },
  {
   "cell_type": "code",
   "execution_count": null,
   "metadata": {},
   "outputs": [],
   "source": [
    "print(sys.path)"
   ]
  },
  {
   "cell_type": "code",
   "execution_count": null,
   "metadata": {},
   "outputs": [],
   "source": [
    "print(sys.platform)"
   ]
  },
  {
   "cell_type": "code",
   "execution_count": null,
   "metadata": {},
   "outputs": [],
   "source": [
    "print(sys.getwindowsversion().major)\n",
    "print(sys.executable)\n",
    "print(sys.argv)"
   ]
  },
  {
   "cell_type": "code",
   "execution_count": null,
   "metadata": {},
   "outputs": [],
   "source": [
    "pprint(dir()) # Tout l'environement actuelle "
   ]
  },
  {
   "cell_type": "code",
   "execution_count": null,
   "metadata": {},
   "outputs": [],
   "source": [
    "pprint(dir(os))# Tous les arguments et attributs dans le module os"
   ]
  },
  {
   "cell_type": "code",
   "execution_count": null,
   "metadata": {},
   "outputs": [],
   "source": [
    "pprint(dir([])) # Tout ce que je peux faire sur une liste "
   ]
  },
  {
   "cell_type": "code",
   "execution_count": null,
   "metadata": {},
   "outputs": [],
   "source": [
    "pprint([].append.__doc__) # <=> help([].append)"
   ]
  },
  {
   "cell_type": "markdown",
   "metadata": {},
   "source": [
    "# Docstring\n",
    "\n",
    "Les docstrings reST (reStructuredText), notamment utilisés par Sphinx pour générer de la documentation automatiquement.\n",
    "\n",
    "```\n",
    "\"\"\"Exemple de docstring reST\n",
    " \n",
    ":param param1: premier paramètre\n",
    ":type param1: type du premier paramètre\n",
    ":param param2: second paramètre\n",
    ":type param2: type du second paramètre\n",
    ":returns: description de ce qui est retourné\n",
    ":rtype: type de l'objet retourné\n",
    "\"\"\"\n",
    "```\n",
    "\n",
    "```Python\n",
    "\n",
    "import docstring\n",
    "\n",
    "def multiplication(a, b):\n",
    "    \"\"\"TEXT\n",
    "    \n",
    "    :param a: TEXT\n",
    "    :param b: TEXT\n",
    "    :type a: int\n",
    "    :type b: int\n",
    "    :return: TEXT\n",
    "    :rtype: int\n",
    "    \n",
    "    :Example:\n",
    "    >> multiplication(3, 5)\n",
    "    10\n",
    "    \n",
    "    \"\"\"\n",
    "    return a * b\n",
    "\n",
    "print(dosctring.multiplication.__doc__)\n",
    "```\n",
    "\n",
    "Les docstrings Google, qui peuvent également être utilisés par Sphinx.\n",
    "\n",
    "```\n",
    "\"\"\"Exemple de docstring Google\n",
    " \n",
    "Args:\n",
    "    param1 (str): Premier paramètre\n",
    "    param2 (int, optional): Second paramètre\n",
    " \n",
    "Returns:\n",
    "    Description de ce qui est retourné\n",
    "\"\"\"\n",
    "\n",
    "```"
   ]
  },
  {
   "cell_type": "markdown",
   "metadata": {},
   "source": [
    "# Recherche récursive\n",
    "\n",
    "\n",
    "`glob.glob(pathname, *, recursive=False)`\n",
    "\n",
    "<span style=\"color:green\"><u>recursive=True</u></span>\n",
    "\n",
    "- le motif « ** » reconnaît tous les fichiers et, zéro ou plus répertoires et sous-répertoires. \n",
    "- le motif « os.sep » reconnaît seuls les répertoires et sous-répertoires sont reconnus."
   ]
  },
  {
   "cell_type": "code",
   "execution_count": null,
   "metadata": {},
   "outputs": [],
   "source": [
    "glob(\"/Users/845698/Desktop/Celia/*/Reminder**.ipynb*\", recursive=True)"
   ]
  },
  {
   "cell_type": "code",
   "execution_count": null,
   "metadata": {},
   "outputs": [],
   "source": [
    "for root, dirnames, filenames in os.walk('Reminder'):\n",
    "    print(root, dirnames, filenames)"
   ]
  },
  {
   "cell_type": "code",
   "execution_count": null,
   "metadata": {},
   "outputs": [],
   "source": []
  }
 ],
 "metadata": {
  "kernelspec": {
   "display_name": "Python 3",
   "language": "python",
   "name": "python3"
  },
  "language_info": {
   "codemirror_mode": {
    "name": "ipython",
    "version": 3
   },
   "file_extension": ".py",
   "mimetype": "text/x-python",
   "name": "python",
   "nbconvert_exporter": "python",
   "pygments_lexer": "ipython3",
   "version": "3.8.5"
  }
 },
 "nbformat": 4,
 "nbformat_minor": 2
}
