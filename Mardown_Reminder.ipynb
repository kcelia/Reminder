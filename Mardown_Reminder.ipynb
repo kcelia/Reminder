{
 "cells": [
  {
   "cell_type": "markdown",
   "metadata": {},
   "source": [
    "# Markdown:\n",
    "\n",
    "Markdown est un moyen de styliser du texte sur le Web.\n",
    "\n",
    "L'extension est: *.mdou* ou *.markdown*."
   ]
  },
  {
   "cell_type": "markdown",
   "metadata": {},
   "source": [
    "## En-têtes:\n",
    "\n",
    "Vous pouvez utiliser un jusqu'à six `######` pour différentes tailles de titre.\n",
    "\n",
    "\n",
    "# 1.TEXT\n",
    "\n",
    "**Code:**\n",
    "```\n",
    "# TEXT\n",
    "```\n",
    "2.TEXT\n",
    "=============================================\n",
    "\n",
    "**Code:**\n",
    "```\n",
    "TEXT\n",
    "===================================================\n",
    "```\n",
    "\n",
    "3.TEXT\n",
    "___________________________________________________\n",
    "\n",
    "**Code:**\n",
    "```\n",
    "TEXT\n",
    "___________________________________________________\n",
    "```\n",
    "\n",
    "4.TEXT\n",
    "-------------------------------------------------------------------------------\n",
    "\n",
    "**Code:**\n",
    "```\n",
    "TEXT\n",
    "---------------------------------------------------\n",
    "```\n",
    "\n"
   ]
  },
  {
   "cell_type": "markdown",
   "metadata": {},
   "source": [
    "## Citations:\n",
    "\n",
    "Si vous souhaitez citer quelqu'un, utilisez le caractère `>` avant la ligne:\n",
    "\n",
    "\n",
    "\n",
    "> Café La meilleure suspension organique jamais conçue ... J'ai battu le Borg avec.\n",
    "> - Capitaine Janeway\n",
    "\n",
    "> Une citation\n",
    ">> Une réponse à la citation\n",
    ">>\n",
    ">> Réponse qui contient une liste à puces :\n",
    ">>> * Puce\n",
    ">>> * Autre puce\n"
   ]
  },
  {
   "cell_type": "markdown",
   "metadata": {},
   "source": [
    "## Code:\n",
    "\n",
    "* Bloc: \n",
    "\n",
    "```python\n",
    "import numpy as np\n",
    "...\n",
    "```\n",
    "\n",
    "* Ligne:\n",
    "\n",
    "`Une ligne de code`"
   ]
  },
  {
   "cell_type": "markdown",
   "metadata": {},
   "source": [
    "## List:\n",
    "\n",
    "1. Liste detirets:\n",
    "\n",
    "\t- [x] Finish my changes\n",
    "\t- [ ] Push my commits to GitHub\n",
    "\t- [ ] Open a pull request\n",
    "    \n",
    "1. Liste à puce:\n",
    "\n",
    "\t* tiret1 % '*' avec saut de ligne\n",
    "\t- tiret2 % '-' sans de saut de ligne\n",
    "\t- tiret3 % avec 1 tabulation\n",
    "\t\t- tiret4 % avec 2 tabulations\n",
    "\t> tiret5\n",
    "\t+ tiret 6 % '+' avec saut de ligne\n",
    "\n",
    "    Remarque : '-' et '*' produisent la même enumération.\n",
    "\n",
    "1. Numérotés:\n",
    "\n",
    "\t1. Item 1\n",
    "\t1. Item 2\n",
    "\t1. Item 3\n",
    "\t\t1. Item 3a\n",
    "\t\t1. Item 3b\n"
   ]
  },
  {
   "cell_type": "markdown",
   "metadata": {},
   "source": [
    "## Texture:\n",
    "\n",
    "#### Italique:\n",
    "\n",
    "_italic_: `_italic_` ou `*italic*`, avec _ ou *\n",
    "\n",
    "#### Gras:\n",
    "\n",
    "**gras**: `**gras**` ou `__gras__` avec ** ou __\n",
    "\n",
    "#### <u>Souligné</u>:\n",
    "\n",
    "Dans jupyter en utilisant HTML avec `<u>Word<u/>`."
   ]
  },
  {
   "cell_type": "markdown",
   "metadata": {},
   "source": [
    "## Italique, Gras et Souligné:\n",
    "\n",
    "<u>__***italique gras souligné***__<u/>"
   ]
  },
  {
   "cell_type": "markdown",
   "metadata": {},
   "source": [
    "## Scrached / Barré:\n",
    "\n",
    "~~Scrarched Text~~\n",
    "\n",
    "**Code:**\n",
    "```\n",
    "~~Scrarched Text~~\n",
    "```"
   ]
  },
  {
   "cell_type": "markdown",
   "metadata": {},
   "source": [
    "### Image:\n",
    "\n",
    "`![Item](URL)`\n",
    "\n",
    "### Lien:\n",
    "\n",
    "`[Item](URL)` -  Lien cliquable!\n",
    "\n",
    "[GitHub](http://github.com) -- http://github.com est remplacé par GitHub"
   ]
  },
  {
   "cell_type": "markdown",
   "metadata": {},
   "source": [
    "### Couleur:\n",
    "\n",
    "<span style=\"color:red\">Text</span>: `<span style=\"color:red\">Text</span>`\n"
   ]
  },
  {
   "cell_type": "markdown",
   "metadata": {},
   "source": [
    "### Tableau \n",
    "\n",
    "First Header | Second Header | Third Header\n",
    "------------ | :------------:|------------:\n",
    "Everything on the _left_ | Everything is _centred_ | Everything on the _right_\n",
    "-- | :--: | --:"
   ]
  },
  {
   "cell_type": "markdown",
   "metadata": {},
   "source": [
    "### Emoji:\n",
    "\n",
    "Voir https://github.com/ikatyang/emoji-cheat-sheet/blob/master/README.md\n",
    "\n",
    "Exemples:\n",
    "\n",
    "* :smiley:\n",
    "* :wink:\n",
    "* :ok_hand:\n",
    "* :thinking:"
   ]
  },
  {
   "cell_type": "markdown",
   "metadata": {},
   "source": [
    "\n",
    "### Les flèches\n",
    "\n",
    "+ :arrow_right:\n",
    "+ :left_right_arrow:\n",
    "+ :arrow_up:\n",
    "+ :arrow_upper_right:\n",
    "+ -->, <--, <--> : →, ←, ↔\n",
    "+ ==>, <== : ⇒, ⇐\n",
    "\n",
    "### Autres symboles\n",
    "\n",
    "+ O/ : Ø\n",
    "+ != : ≠\n",
    "+ +/- : ±"
   ]
  },
  {
   "cell_type": "markdown",
   "metadata": {},
   "source": [
    "## Create a folder via graphical interface\n",
    "\n",
    "`Create_file > my_folder/.gitkeep > Create_file`\n",
    "\n",
    "*.gitkeep* is not a feature of Git. To add an empty directories in Git, people have created the convention of putting files called *.gitkeep* in these directories. \n",
    "The file could be called anything; Git assigns no special significance to this name.\n",
    "Adding a .gitignore file to the empty directories is possible, but some people see this as confusing since the goal is to keep the empty directories, not ignore them.\n"
   ]
  },
  {
   "cell_type": "markdown",
   "metadata": {},
   "source": [
    "\n",
    "\n",
    "## Relations\n",
    "\n",
    "- $\\pi \\approx 3.14159$\n",
    "\n",
    "```\n",
    "$\\pi \\approx 3.14159$\n",
    "```\n",
    "\n",
    "- ${1 \\over 0} \\neq \\infty$, $\\frac{1}{2x}$, ${6 \\over 4}$, $^5/_2$\n",
    "\n",
    "```\n",
    "${1 \\over 0} \\neg \\infty$, $\\frac{1}{2x}$, ${6 \\over 4}$, $^5/_2$\n",
    "```\n",
    "\n",
    "- $0 < x < 1$\n",
    "\n",
    "```\n",
    "$0 < x < 1$\n",
    "```\n",
    "\n",
    "- $0 \\leq x \\geq 1$\n",
    "\n",
    "```\n",
    "$0 \\leq x \\geq 1$\n",
    "```\n",
    "\n",
    "- $\\sigma$, $\\Sigma$, $\\tau$, $\\pi$, $\\Pi$, $\\chi$, $\\omega$, $\\Omega$, $\\in$"
   ]
  },
  {
   "cell_type": "markdown",
   "metadata": {},
   "source": [
    "\n",
    "\n",
    "\n",
    "- Add \n",
    "\n",
    "$x + y$\n",
    "\n",
    "- Substract \n",
    "\n",
    "$x - y$\n",
    "\n",
    "- Multiply \n",
    "\n",
    "$x * y$ or $x \\times y$ or $x . y$\n",
    "\n",
    "- Divide\n",
    "\n",
    "$x / y$ or $x \\div y$ or $\\frac{x}{y}$\n",
    "\n",
    "```\n",
    "$x / y$ or $x \\div y$ or $\\frac{x}{y}$\n",
    "```\n"
   ]
  },
  {
   "cell_type": "markdown",
   "metadata": {},
   "source": [
    "FONCTION \n",
    "=========\n",
    "\n",
    "- $f(x) = {x^2_{n-1} \\over x^{6 \\over 5}_n}$\n",
    "\n",
    "`$f(x) = {x^2_{n-1} \\over x^{6 \\over 5}_n}$`\n",
    "\n",
    "- $f(x) = \\sqrt{3}{2x_{n-1}} + \\sqrt{{x-5} \\over x^{6 \\over 5}_n}$\n",
    "\n",
    "`$f(x) = \\sqrt{3}{2x_{n-1}} + \\sqrt{{x-5} \\over x^{6 \\over 5}_n}$`\n",
    "\n",
    "- $\\log_x$, $\\log_x x$\n",
    "\n",
    "`$\\log_x, $\\log_x x$`\n",
    "\n"
   ]
  },
  {
   "cell_type": "markdown",
   "metadata": {},
   "source": [
    "- $\\sum\\limits_{x=1}^{\\infty} {1 \\over x}$\n",
    "\n",
    "`$\\sum\\limits_{x=1}^{\\infty} {1 \\over x}$`\n",
    "\n",
    "- $\\sum\\limits_{i=1}^{n} x_i - 1$\n",
    "\n",
    "`$\\sum\\limits_{i=1}^{n} x_i - 1$`\n",
    "\n",
    "- $max(X) = \\max\\limits_{i: x_i \\in \\{S\\}} x_i$\n",
    "\n",
    "`$max(X) = \\max\\limits_{i: x_i \\in \\{S\\}} x_i$`\n",
    "\n",
    "- $\\frac{n!}{k!(n-k)!} = {n \\choose k}$\n",
    "\n",
    "`$\\frac{n!}{k!(n-k)!} = {n \\choose k}$`\n",
    "\n",
    "\n",
    "- $\\lim\\limits_{x \\to 0^+} {1 \\over 0} = \\infty$\n",
    "\n",
    "`$\\lim\\limits_{x \\to 0^+} {1 \\over 0} = \\infty$`\n",
    "\n",
    "\n",
    "- $\\int\\limits_{a}^{b} 2x \\, dx$\n",
    "\n",
    "`$\\int\\limits_{a}^{b} 2x \\, dx$`\n",
    "\n",
    "\n",
    "- `$f(x) = \n",
    "\\left\\{\n",
    "        \\begin{array}{ll}\n",
    "            0 & \\mbox{if } x = 0 \\\\\n",
    "            {1 \\over x} & \\mbox{if } x \\neq 0\n",
    "        \\end{array}\n",
    "\n",
    "\\right$`"
   ]
  },
  {
   "cell_type": "markdown",
   "metadata": {},
   "source": [
    "- $\\exists, \\exists!, \\nexists, \\forall, \\neg, \\lor, \\land$\n",
    "\n",
    "`$\\exists, \\exists!, \\nexists, \\forall, \\neg, \\lor, \\land$`\n",
    "\n",
    "- $\\Longrightarrow, \\Longleftarrow, \\Leftrightarrow$\n",
    "\n",
    "`$\\implies or \\Longrightarrow, \\Longleftarrow, \\Leftrightarrow$`\n",
    "\n",
    "- $\\Rightarrow, \\Leftarrow, \\iff$\n",
    "\n",
    "`$\\Rightarrow, \\Leftarrow, \\iff$`\n",
    "\n",
    "- $\\longmapsto$\n",
    "\n",
    "- $\\top, \\bot$\n",
    "\n",
    "`$\\top, \\bot$`"
   ]
  },
  {
   "cell_type": "markdown",
   "metadata": {},
   "source": [
    "Matrix\n",
    "===\n",
    "\n",
    "- $\\begin{pmatrix} 1 & 2 & 3 \\\\ 4 & 5 & 6 \\\\ 7 & 8 & 9 \\end{pmatrix}$\n",
    "\n",
    "`$\\begin{pmatrix} 1 & 2 & 3 \\\\ 4 & 5 & 6 \\\\ 7 & 8 & 9 \\end{pmatrix}$`\n",
    "\n",
    "\n",
    "- $\\begin{bmatrix} 1 & 2 & 3 \\\\ 4 & 5 & 6 \\\\ 7 & 8 & 9 \\end{bmatrix}$\n",
    "\n",
    "`$\\begin{bmatrix} 1 & 2 & 3 \\\\ 4 & 5 & 6 \\\\ 7 & 8 & 9 \\end{bmatrix}$`\n",
    "\n",
    "- $\\begin{matrix} 1 & 2 & 3 \\\\ 4 & 5 & 6 \\\\ 7 & 8 & 9 \\end{matrix}$\n",
    "\n",
    "`$\\begin{matrix} 1 & 2 & 3 \\\\ 4 & 5 & 6 \\\\ 7 & 8 & 9 \\end{matrix}$`\n",
    "\n",
    "- $\\begin{pmatrix} \\frac{\\partial f_1} {\\partial x_1} & \\cdots & {\\partial f_1} {\\partial x_n}  \\\\ \\vdots & \\ddots & \\vdots  \\\\ \\frac{\\partial f_n} {\\partial x_1} & \\cdots & {\\partial f_n} {\\partial x_n} \\end{pmatrix}$\n",
    "\n",
    "`$\\begin{pmatrix} 1 & 2 & 3 \\\\ 4 & 5 & 6 \\\\ 7 & 8 & 9 \\end{pmatrix}$`"
   ]
  },
  {
   "cell_type": "markdown",
   "metadata": {},
   "source": [
    "$\\mathbb{R}, \\mathbb{Z}, \\mathbb{Q}, \\mathbb{N}, \\mathbb{C}$\n",
    "\n",
    "`$\\mathbb{R}, \\mathbb{Z}, \\mathbb{Q}, \\mathbb{N}, \\mathbb{C}$`"
   ]
  },
  {
   "cell_type": "markdown",
   "metadata": {},
   "source": [
    "$$ H(x) =  \\begin{cases} 0 & \\text{si $x < 0$,} \\\\ 1 & \\text{si $x \\geq 0$.} \\end{cases} $$ \n",
    "`$$ H(x) =  \\begin{cases} 0 & \\text{si $x < 0$,} \\\\ 1 & \\text{si $x \\geq 0$.} \\end{cases} $$`\n"
   ]
  },
  {
   "cell_type": "markdown",
   "metadata": {},
   "source": []
  },
  {
   "cell_type": "markdown",
   "metadata": {},
   "source": []
  }
 ],
 "metadata": {
  "kernelspec": {
   "display_name": "Python 3",
   "language": "python",
   "name": "python3"
  },
  "language_info": {
   "codemirror_mode": {
    "name": "ipython",
    "version": 3
   },
   "file_extension": ".py",
   "mimetype": "text/x-python",
   "name": "python",
   "nbconvert_exporter": "python",
   "pygments_lexer": "ipython3",
   "version": "3.8.5"
  }
 },
 "nbformat": 4,
 "nbformat_minor": 4
}
