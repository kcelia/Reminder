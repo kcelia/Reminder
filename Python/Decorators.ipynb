{
 "cells": [
  {
   "cell_type": "markdown",
   "metadata": {},
   "source": [
    "# 1. Décorateur:\n",
    "Les décorateurs sont des fonctions dont le rôle est de modifier le comportement par défaut d'autres fonctions ou classes.\n",
    "\n",
    "Une fonction modifiée par un décorateur ne s'exécutera pas elle-même mais appellera le décorateur. C'est au décorateur de décider s'il veut exécuter la fonction et dans quelles conditions.\n",
    "\n",
    "# Paramètre:\n",
    "\n",
    "Il prend en paramètre, une fonction (celle qu'il modifie) et renvoie une fonction (celle qui sera directement affectée à notre fonction définie). \n",
    "\n",
    "La fonction renvoyée peut être : \n",
    "- La même fonction\n",
    "- Une autre fonction qui remplace la fonction définie pour modifier son comportement - comme le décorateur est le seul à utiliser cette fonction, elle sera donc définie à l'interieur de celui-ci."
   ]
  },
  {
   "cell_type": "code",
   "execution_count": 1,
   "metadata": {},
   "outputs": [
    {
     "name": "stdout",
     "output_type": "stream",
     "text": [
      "Notre décorateur est appelé avec en paramètre la fonction: <function salut at 0x0000027D97D7F160>\n",
      "Salut !\n"
     ]
    }
   ],
   "source": [
    "# Exemple simple \n",
    "def mon_decorateur(fonction):\n",
    "    \"\"\"Premier exemple de décorateur\"\"\"\n",
    "    print(f\"Notre décorateur est appelé avec en paramètre la fonction: {fonction}\")\n",
    "    return fonction()\n",
    "\n",
    "@mon_decorateur \n",
    "# Précise à Python que cette fct doit être modifiée par le décorateur.\n",
    "def salut():\n",
    "    \"\"\"Fonction modifiée par notre décorateur\"\"\"\n",
    "    print(\"Salut !\")\n",
    "\n",
    "## Notre décorateur est appelé avec en paramètre la fonction <function salut at 0x00BA5198>\n"
   ]
  },
  {
   "cell_type": "code",
   "execution_count": 2,
   "metadata": {},
   "outputs": [
    {
     "name": "stdout",
     "output_type": "stream",
     "text": [
      "Attention ! On appelle <function salut at 0x0000027D97C6C820>\n",
      "Salut !\n"
     ]
    }
   ],
   "source": [
    "# Exemple avec fonction renvoyée modifiée\n",
    "\n",
    "def mon_decorateur(fonction):\n",
    "    \"\"\"Notre décorateur : il va afficher un message avant l'appel de la\n",
    "    fonction définie\"\"\"\n",
    "    \n",
    "    def fonction_modifiee():\n",
    "        \"\"\"Fonction que l'on va renvoyer. Il s'agit en fait d'une version\n",
    "        un peu modifiée de notre fonction originellement définie. On se\n",
    "        contente d'afficher un avertissement avant d'exécuter notre fonction\n",
    "        originellement définie\"\"\"\n",
    "        \n",
    "        print(f\"Attention ! On appelle {fonction}\")\n",
    "        return fonction()\n",
    "    \n",
    "    # Le décorateur renvoie une fonction de substitution\n",
    "    return fonction_modifiee\n",
    "\n",
    "@mon_decorateur\n",
    "def salut():\n",
    "    print(\"Salut !\")\n",
    "    \n",
    "salut()"
   ]
  },
  {
   "cell_type": "code",
   "execution_count": 3,
   "metadata": {},
   "outputs": [
    {
     "name": "stdout",
     "output_type": "stream",
     "text": [
      "Attention ! On appelle <function salut at 0x0000027D97D7F670>\n",
      "On n'a pas renvoyé la fonction\n"
     ]
    }
   ],
   "source": [
    "# Exemple avec fonction renvoyée modifiée\n",
    "\n",
    "def mon_decorateur(fonction):\n",
    "    \"\"\"Notre décorateur : il va afficher un message avant l'appel de la\n",
    "    fonction définie\"\"\"\n",
    "    \n",
    "    def fonction_modifiee():\n",
    "        \"\"\"Fonction que l'on va renvoyer. Il s'agit en fait d'une version\n",
    "        un peu modifiée de notre fonction originellement définie. On se\n",
    "        contente d'afficher un avertissement avant d'exécuter notre fonction\n",
    "        originellement définie\"\"\"\n",
    "        \n",
    "        print(f\"Attention ! On appelle {fonction}\")\n",
    "        return print(f\"On n'a pas renvoyé la fonction\")\n",
    "    \n",
    "    # Le décorateur renvoie une fonction de substitution\n",
    "    return fonction_modifiee\n",
    "\n",
    "@mon_decorateur\n",
    "def salut():\n",
    "    print(\"Salut !\")\n",
    "    \n",
    "salut()"
   ]
  },
  {
   "cell_type": "markdown",
   "metadata": {},
   "source": [
    "# Exemple avec paramètre\n",
    "\n",
    "Décorateur chargé d'exécuter une fonction en contrôlant le temps qu'elle met à s'exécuter \n",
    "\n",
    "Il prend en paramètre un paramètre et non une fonction\n",
    "\n",
    "Return: Décorateur (et non une fonction de substitution)\n",
    "\n",
    "Rappel:\n",
    "------\n",
    "Avant | Après \n",
    "------|-------\n",
    "fonction = decorateur(fonction) | fonction = decorateur(parametre)(fonction)\n"
   ]
  },
  {
   "cell_type": "code",
   "execution_count": 4,
   "metadata": {},
   "outputs": [],
   "source": [
    "import time\n",
    "\n",
    "# Elle comprend trois niveaux, \n",
    "# puisque nous devons influer sur le comportement de la fct\n",
    "# et que notre décorateur prend des paramètres.\n",
    "\n",
    "def controler_temps(nb_secs):\n",
    "    \"\"\"Contrôle le temps mis par une fonction pour s'exécuter.\n",
    "    Si le temps d'exécution est supérieur à nb_secs, on affiche une alerte\"\"\"\n",
    "    \n",
    "    def decorateur(fonction_a_executer):\n",
    "        \"\"\"Notre décorateur. C'est lui qui est appelé directement LORS\n",
    "        DE LA DEFINITION de notre fonction (fonction_a_executer)\"\"\"\n",
    "        \n",
    "        def fonction_modifiee(*parametres_non_nommes, **parametres_nommes):\n",
    "            \"\"\"Fonction renvoyée par notre décorateur. Elle se charge\n",
    "            de calculer le temps mis par la fonction à s'exécuter\"\"\"\n",
    "            \n",
    "            tps_avant = time.time() # Avant d'exécuter la fonction\n",
    "            valeur_renvoyee = fonction_a_executer(*parametres_non_nommes, **parametres_nommes) # On exécute la fonction\n",
    "            tps_apres = time.time()\n",
    "            tps_execution = tps_apres - tps_avant\n",
    "            if tps_execution >= nb_secs:\n",
    "                print(\"La fonction {0} a mis {1} pour s'exécuter\".format( \\\n",
    "                        fonction_a_executer, tps_execution))\n",
    "            return valeur_renvoyee\n",
    "        return fonction_modifiee\n",
    "    return decorateur"
   ]
  },
  {
   "cell_type": "code",
   "execution_count": 5,
   "metadata": {},
   "outputs": [
    {
     "name": "stdout",
     "output_type": "stream",
     "text": [
      "Appuyez sur Entrée...\n"
     ]
    }
   ],
   "source": [
    "@controler_temps(4)\n",
    "def attendre():\n",
    "    input(\"Appuyez sur Entrée...\")\n",
    "attendre()"
   ]
  },
  {
   "cell_type": "code",
   "execution_count": 6,
   "metadata": {},
   "outputs": [
    {
     "name": "stdout",
     "output_type": "stream",
     "text": [
      "Intervalle de 1 à 8\n"
     ]
    }
   ],
   "source": [
    "# Exemple - controler les ints\n",
    "\n",
    "def controler_types(*a_args, **a_kwargs):\n",
    "    \"\"\"On attend en paramètres du décorateur les types souhaités. On accepte\n",
    "    une liste de paramètres indéterminés, étant donné que notre fonction\n",
    "    définie pourra être appelée avec un nombre variable de paramètres et que\n",
    "    chacun doit être contrôlé\"\"\"\n",
    "    \n",
    "    def decorateur(fonction_a_executer):\n",
    "        \"\"\"Notre décorateur. Il doit renvoyer fonction_modifiee\"\"\"\n",
    "        def fonction_modifiee(*args, **kwargs):\n",
    "            \"\"\"Notre fonction modifiée. Elle se charge de contrôler\n",
    "            les types qu'on lui passe en paramètres\"\"\"\n",
    "            \n",
    "            # La liste des paramètres attendus (a_args) doit être de même\n",
    "            # Longueur que celle reçue (args)\n",
    "            if len(a_args) != len(args):\n",
    "                raise TypeError(\"le nombre d'arguments attendu n'est pas égal \" \\\n",
    "                        \"au nombre reçu\")\n",
    "            # On parcourt la liste des arguments reçus et non nommés\n",
    "            for i, arg in enumerate(args):\n",
    "                if a_args[i] is not type(args[i]):\n",
    "                    raise TypeError(\"l'argument {0} n'est pas du type \" \\\n",
    "                            \"{1}\".format(i, a_args[i]))\n",
    "            \n",
    "            # On parcourt à présent la liste des paramètres reçus et nommés\n",
    "            for cle in kwargs:\n",
    "                if cle not in a_kwargs:\n",
    "                    raise TypeError(\"l'argument {0} n'a aucun type \" \\\n",
    "                            \"précisé\".format(repr(cle)))\n",
    "                if a_kwargs[cle] is not type(kwargs[cle]):\n",
    "                    raise TypeError(\"l'argument {0} n'est pas de type\" \\\n",
    "                            \"{1}\".format(repr(cle), a_kwargs[cle]))\n",
    "            return fonction_a_executer(*args, **kwargs)\n",
    "        return fonction_modifiee\n",
    "    return decorateur\n",
    "\n",
    "@controler_types(int, int)\n",
    "def intervalle(base_inf, base_sup):\n",
    "    print(\"Intervalle de {0} à {1}\".format(base_inf, base_sup))\n",
    "\n",
    "intervalle(1, 8)\n",
    "# intervalle(5, \"oups!\")\n"
   ]
  },
  {
   "cell_type": "code",
   "execution_count": 7,
   "metadata": {},
   "outputs": [
    {
     "name": "stdout",
     "output_type": "stream",
     "text": [
      "<function f at 0x0000027D97D7F310>: 1 appels\n",
      "Fonction F: (4, 5), {}\n",
      "<function f at 0x0000027D97D7F310>: 2 appels\n",
      "Fonction F: (4, 5555), {}\n",
      "<function g at 0x0000027D97DAB1F0>: 1 appels\n",
      "Fonction G: (434,)\n"
     ]
    }
   ],
   "source": [
    "# Exemple - Compter d'appel\n",
    "\n",
    "class Nbappel:\n",
    "    def __init__(self, fct):\n",
    "        self.appel = 0\n",
    "        self.fct   = fct\n",
    "        \n",
    "    def __call__(self, *args, **kwargs):\n",
    "        self.appel += 1\n",
    "        print(f\"{self.fct}: {self.appel} appels\")\n",
    "        return self.fct(*args, **kwargs)\n",
    "\n",
    "@Nbappel\n",
    "def f(*a,**b): \n",
    "    print(f\"Fonction F: {a}, {b}\")\n",
    "    \n",
    "@Nbappel\n",
    "def g(*a): \n",
    "    print(f\"Fonction G: {a}\")\n",
    "\n",
    "f(4, 5)\n",
    "f(4, 5555)\n",
    "\n",
    "g(434)"
   ]
  },
  {
   "cell_type": "code",
   "execution_count": 8,
   "metadata": {},
   "outputs": [
    {
     "name": "stdout",
     "output_type": "stream",
     "text": [
      "Fonction <function sum1 at 0x0000027D97DAB8B0>: 0.0 s\n"
     ]
    },
    {
     "data": {
      "text/plain": [
       "' SUM: 435'"
      ]
     },
     "execution_count": 8,
     "metadata": {},
     "output_type": "execute_result"
    }
   ],
   "source": [
    "import time\n",
    "\n",
    "def temps(f):\n",
    "    \"\"\"Decorateur qui calcule le temps d'execution d'une fonction\"\"\"\n",
    "    def fonction_modifiee(*args, **kwargs):\n",
    "        start_time = time.time()\n",
    "        resultat = f(*args, **kwargs)\n",
    "        end_time = time.time()\n",
    "        print(f\"Fonction {f}: {(end_time - start_time) / 60} s\")\n",
    "        return resultat #f(*args, **kwargs)\n",
    "    return fonction_modifiee\n",
    "\n",
    "@temps\n",
    "def sum1(max_iter):\n",
    "    return f\" SUM: {sum([i for i in range(max_iter)])}\"\n",
    "sum1(30)"
   ]
  }
 ],
 "metadata": {
  "kernelspec": {
   "display_name": "Python 3",
   "language": "python",
   "name": "python3"
  },
  "language_info": {
   "codemirror_mode": {
    "name": "ipython",
    "version": 3
   },
   "file_extension": ".py",
   "mimetype": "text/x-python",
   "name": "python",
   "nbconvert_exporter": "python",
   "pygments_lexer": "ipython3",
   "version": "3.8.5"
  }
 },
 "nbformat": 4,
 "nbformat_minor": 4
}
