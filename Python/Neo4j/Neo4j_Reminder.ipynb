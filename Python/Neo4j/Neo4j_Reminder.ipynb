{
  "nbformat": 4,
  "nbformat_minor": 0,
  "metadata": {
    "colab": {
      "name": "Neo4j_Reminder.ipynb",
      "provenance": [],
      "collapsed_sections": []
    },
    "kernelspec": {
      "name": "python3",
      "display_name": "Python 3"
    },
    "language_info": {
      "name": "python"
    }
  },
  "cells": [
    {
      "cell_type": "markdown",
      "metadata": {
        "id": "Yp3tpJ6cWu-9"
      },
      "source": [
        "# Neo4j\n",
        "______________________"
      ]
    },
    {
      "cell_type": "markdown",
      "metadata": {
        "id": "E-1r2cAfZDhZ"
      },
      "source": [
        "## NoSql\n",
        "\n",
        "Dans les années 70, les bases de données relationnelles (propriétés ACID pour les transactions)peinent à lutter contre les 3V (Volume, Velocity, Variety).Une nouvelle façon de structurer, gérer, stocker et interroger les données est née: \"Le NoSQL\" une approche qui propose de relâcher certaines contraintes lourdes du relationnel.\n",
        "\n",
        "#### Les propriétés BASE caractérisent les bases NoSQL :\n",
        "\n",
        "1. Basically Available : quelle que soit la charge de la base de données (données/requêtes), le système garantie un taux de disponibilité de la donnée\n",
        "\n",
        "2. Soft-state : La base peut changer lors des mises à jour ou lors d'ajout/suppression de serveurs. La base NoSQL n'a pas à être cohérente à tout instant\n",
        "\n",
        "3. Eventually consistent : À terme, la base atteindra un état cohérent\n",
        "\n",
        "Différentes familles de bases NoSQL existent : Clé/Valeur, colonnes, documents, graphes. Chacune de ces familles répond à des besoins très spécifiques.\n",
        "\n",
        "\n",
        "## Famille de graphes\n",
        "\n",
        "**Neo4j** : eBay, Cisco, UBS, HP, TomTom, The National Geographic Society\n",
        "\n",
        "**OrientDB (Apache)** : Comcast, Warner Music Group, Cisco, Sky, United Nations, VErisign\n",
        "\n",
        "**FlockDB (Twitter)** : Twitter\n",
        "\n",
        "Idées d'applications reposant sur des bases orientées graphes : réseaux sociaux (recommandation, plus court chemin, cluster...), réseaux SIG (routes, réseau électrique, fret...), web social (Linked Data)\n",
        "\n",
        "# Neo4j \n",
        "Neo4j est un système de gestion de base de données au code source libre basée sur les graphes, développé en Java par la société suédo-américaine **Neo technology**. Le produit existe depuis 2000.\n",
        "\n",
        "\n",
        "Par construction la bd. est extrêmement performante car Neo4j pré-calcule les jointures au moment de l'écriture des données, comparativement aux bd.relationnelles qui calculent les jointures à la lecture en faisant appel aux Index et à la logique de clés. Ce qui fait de Neo4j une technologie adaptée à de larges ensembles de données connectées\n",
        "\n",
        "**Cypher** est le langage informatique de requête orienté graphe utilisé par Neo4j (plus simple que SQL pour le traîtement des données connectées).\n",
        "\n",
        "***Login to Neo4j sandbox***: sandbox.ne4j.com \n",
        "\n",
        "## Neo4j Editions\n",
        "\n",
        "1. Community\n",
        "3. Aura\n",
        "3. Entreprise \n",
        "    + Neo4j Bloom: Application that's might be useful for product managers support staff or other not so technical that  offer query suggestions to the user. It interprets and executes natural language queries.\n"
      ]
    },
    {
      "cell_type": "markdown",
      "metadata": {
        "id": "-JgcQgBFWvB0"
      },
      "source": [
        "## Modèle\n",
        "- Neo4j est une bd. orientée graphe.\n",
        "- Neo4j définit 2 types d'objects dans le graphe: les **nœuds** et les **relations**.\n",
        "- Les **labels** (type): servent à décrire l'objet du nœud et à créer des groupes /catégories de nœuds. Ils servent à filtrer les recherches lors de requêtes. Ils être ajoutés sans limite ou upprimés grâce à la fonction set. Par convention, les labels doivent utiliser la mise en forme Camel.\n",
        "- Les **propriétés** : Les attributs, example: name, title, uri ou url.\n",
        "- Les **Relations** sont une association unidirectionnelle entre 2 nœuds."
      ]
    },
    {
      "cell_type": "markdown",
      "metadata": {
        "id": "zQTicezq1-zG"
      },
      "source": [
        "### Useful command\n",
        "\n",
        "```Cypher\n",
        ":clear\n",
        "\n",
        ":help match\n",
        "\n",
        "call db.schema.visualization()\n",
        "```"
      ]
    },
    {
      "cell_type": "markdown",
      "metadata": {
        "id": "symE7_DMX7t-"
      },
      "source": [
        "```Cypher\n",
        "// Return all movies\n",
        "match (m: Movie)\n",
        "return distinct m\n",
        "limit 1\n",
        "```\n",
        "\n",
        "```Cypher\n",
        "// Return the property title of a movie\n",
        "match (m: Movie)\n",
        "return m.title\n",
        "limit 1\n",
        "```\n",
        "\n",
        "```Cypher\n",
        "// Return relation comedy movies\n",
        "match (m:Movie) -[:IN_GENRE]->(g:Genre)\n",
        "where g.name = 'Comedy'\n",
        "return m.title\n",
        "```"
      ]
    },
    {
      "cell_type": "markdown",
      "metadata": {
        "id": "nd1dwHOsX7zc"
      },
      "source": [
        " ```Cypher\n",
        "// We do not specify the relation or the direction\n",
        "match (n1)--(n2) \n",
        "return n1, n2 \n",
        "limit 3\n",
        "```\n",
        "\n",
        "```Cypher\n",
        "// We do not specify the direction\n",
        "match (n1)-[r]-(n2) \n",
        "return n1, r, n2 \n",
        "limit 3\n",
        "```\n",
        "\n",
        "```Cypher\n",
        "// We specify the direction\n",
        "match (n1)-[r]->(n2) \n",
        "return n1, r, n2 \n",
        "limit 3\n",
        "```\n",
        "\n",
        "```Cypher\n",
        "// Multiple relationships\n",
        "match (n1)-[r: DIRECTED | ACTED_IN]->(n2) \n",
        "return n1, r, n2 \n",
        "limit 3\n",
        " ```"
      ]
    },
    {
      "cell_type": "markdown",
      "metadata": {
        "id": "l_724Hj0zp4w"
      },
      "source": [
        "### Filter on the propertises\n",
        "\n",
        "```Cypher\n",
        "match (p: Person {name: 'Tom Hanks', age: 26}) \n",
        "return p \n",
        "limit 1\n",
        "\n",
        "// or \n",
        "\n",
        "match (p: Person) \n",
        "where p.name =  'Tom Hanks' and p.age = 26 and p.adress is not null\n",
        "return p \n",
        "limit 1\n",
        "```\n",
        "\n",
        "```Cypher\n",
        "match (p: Person) \n",
        "where p.born in [1995, 1997]\n",
        "return p \n",
        "limit 1\n",
        "\n",
        "match (p: Person) \n",
        "where not (p.born <=  and p.born >= 1997)\n",
        "return p \n",
        "limit 1\n",
        "``` "
      ]
    },
    {
      "cell_type": "markdown",
      "metadata": {
        "id": "-q7thM_86pqp"
      },
      "source": [
        "## Regular expression \n",
        "\n",
        "Cypher supports filtering using regular expressions, which is inherited from the Java regular expressions.\n",
        "\n",
        "You can match on regular expressions by using =~ 'regexp'\n",
        "\n",
        "```Cypher\n",
        "// Case sensitive\n",
        "match (movie: Movie)\n",
        "where movie.title =~ '.*The.*'\n",
        "return toUpper(movie.title), toLower(movie.title)\n",
        "\n",
        "// Case insensitive\n",
        "match (movie: Movie)\n",
        "where movie.title =~ '(?i).*The.*'\n",
        "return trim(movie.title)\n",
        "```"
      ]
    },
    {
      "cell_type": "markdown",
      "metadata": {
        "id": "NEfCQRO7M0gj"
      },
      "source": [
        "### STRING, LIST, NULL, MATH\n",
        "\n",
        "```Cypher\n",
        "// replace(current_string, search, replace_by)\n",
        "return replace('oh my god', 'o', 'er')\n",
        "```\n",
        "\n",
        "```Cypher\n",
        "// List\n",
        "with [2, 454, 34] as l\n",
        "return l[0]\n",
        "```\n",
        "\n",
        "```Cypher\n",
        "// Returns NULL\n",
        "WITH ( NULL + [1,2,3] ) AS result\n",
        "RETURN result\n",
        "```\n",
        "\n",
        "```Cypher\n",
        "// Returns NULL\n",
        "WITH ( NULL OR false ) AS result\n",
        "RETURN result\n",
        "```\n",
        "\n",
        "```Cypher\n",
        "match (person: Person)\n",
        "with (['address1', 'address 2'] + [person.address]) as str\n",
        "return str\n",
        "\n",
        "match (person: Person)\n",
        "with (['address1', 'address 2'] + [person.address]) as str\n",
        "return [address in str where address is not null | address] as str\n",
        "```\n",
        "\n",
        "```Cypher\n",
        "// Returns [1, NULL, 2, NULL] \n",
        "WITH ( [1, NULL] + [2, NULL] ) AS result\n",
        "RETURN result\n",
        "```\n",
        "\n",
        "```Cypher\n",
        "// Returns NULL\n",
        "WITH ( NULL IN [1,NULL,2,3] ) AS result\n",
        "RETURN result\n",
        "```\n",
        "\n",
        "```Cypher\n",
        "// Math\n",
        "return ceil(2.3), floor(0.9), round(.59)\n",
        "```\n"
      ]
    },
    {
      "cell_type": "markdown",
      "metadata": {
        "id": "PHnTKfXHBAPK"
      },
      "source": [
        "### LEFT OUTER JOIN"
      ]
    },
    {
      "cell_type": "markdown",
      "metadata": {
        "id": "Co7HFiRWX72R"
      },
      "source": [
        "```Cypher \n",
        "// Kind of LEFT OUTER JOIN\n",
        "match (movie: Movie)\n",
        "optional match (director: Person)-[:Directed]->(movie)<-[:Acted_IN]-(director)\n",
        "return movie.title, director.name\n",
        "```\n",
        "\n",
        "```Cypher\n",
        "// (A:Person)-[has_contact]->(B:Person)->[has_contact]->(C:Person)\n",
        "match (p1:Person)-[:HAS_CONTACT]->(p2:Person)-[:HAS_CONTACT]->(p3:Person)\n",
        "where p1 <> p3\n",
        "return p1, p2, p3\n",
        "limit 5\n",
        "```"
      ]
    },
    {
      "cell_type": "markdown",
      "metadata": {
        "id": "kEa80iifBCoy"
      },
      "source": [
        "### ORDER BY\n",
        "\n",
        "```\n",
        "match (actor: Person)-[role: ACTED_IN]->(movie: Movie)\n",
        "where actor.title = 'Top Gun'\n",
        "return actor.name as name, role.earnings as earnt\n",
        "order by role.earnings DESC\n",
        "skip 3 // skip the first 3\n",
        "limit 3\n",
        "```"
      ]
    },
    {
      "cell_type": "markdown",
      "metadata": {
        "id": "I5rj9YGjLlRD"
      },
      "source": [
        "### Aggregation\n",
        "\n",
        "```Cypher\n",
        "match (p: Person {name: 'Tom Crus'})-[role: ACTED_ID]->(m:Movie)\n",
        "Return sum(m) as moviecount\n",
        "```\n",
        "\n",
        "```Cypher\n",
        "// Actor with the highest average earnings per movie\n",
        "match (actor: Person)-[role:ACTED_IN]->(movie: Movie)\n",
        "return distinct actor.name as name, avg(role.earnings) as earnings\n",
        "order by earnings\n",
        "limit 1\n",
        "```\n",
        "\n",
        "```Cypher\n",
        "// Nb job per group\n",
        "match (j: Job)-[:Belongs_to]->(g: Group)\n",
        "with g, count(j) as count_job\n",
        "where g.name = 'G2'\n",
        "set g.nb_jobs = count_job\n",
        "return g\n",
        "\n",
        "// Nb ref per group\n",
        "match (j: Job)-[:Belongs_to]->(g: Group) \n",
        "with g, count(distinct j.ref) as nb_dq\n",
        "set g.nb_dq = nb_dq\n",
        "return g\n",
        "```"
      ]
    },
    {
      "cell_type": "markdown",
      "metadata": {
        "id": "5xeoHCvDX75G"
      },
      "source": [
        "## Create database\n",
        "\n",
        "```Cypher\n",
        "// Create a database\n",
        "create database name\n",
        "```\n",
        "\n",
        "```Cypher\n",
        "// Show database\n",
        "show databases\n",
        "```\n",
        "\n",
        "```Cypher\n",
        "// Drop database\n",
        "drop database name\n",
        "```\n",
        "\n",
        "```Cypher\n",
        "// show rules of our database\n",
        "show all rules\n",
        "```"
      ]
    },
    {
      "cell_type": "markdown",
      "metadata": {
        "id": "xIuNFYl17WND"
      },
      "source": [
        "## Create Nodes\n",
        "\n",
        "\n",
        "```Cypher\n",
        "// Delete all nodes\n",
        "match (node)\n",
        "detach delete node\n",
        "```\n",
        "\n",
        "```Cypher\n",
        "// Create nodes\n",
        "create (:Group{name: 'G1', measure: 'minute', nb_jobs: 0});\n",
        "create (:Group{name: 'G2', measure:'minute', nb_jobs: 0});\n",
        "\n",
        "create (:Job{ref: '1000', type: 'dataset', timing: 5, measure: 'minute', dependancy: True});\n",
        "create (:Job{ref: '1000', type: 'dq', timing: 4, measure: 'minute', dependancy: True});\n",
        "\n",
        "create (:Job{ref: '3000', type: 'dq', timing: 3, measure: 'minute', dependancy: False});\n",
        "\n",
        "create (:Job{ref: '500', type: 'dq', timing: 5.8, measure: 'minute', dependancy: False});\n",
        "create (:Job{ref: '500', type: 'dataset', timing: 3.8, measure: 'minute', dependancy: True});\n",
        "```\n",
        "\n",
        "```Cypher \n",
        "// Create a node that has a relation with itself\n",
        "create (job:Job{ref: '10', type: 'dq', timing: 3, measure: 'minute', dependancy: False}) \n",
        "                -[:shared{periode: 1}]\n",
        "                ->(job)\n",
        "```"
      ]
    },
    {
      "cell_type": "markdown",
      "metadata": {
        "id": "ADzOWoC7kaxd"
      },
      "source": [
        "### Create relationships\n",
        "\n",
        "```Cypher\n",
        "match (job: Job), (group: Group)\n",
        "where job.ef in ['3000', '500'] and group.name ='G2'\n",
        "create (job)-[:Belongs_to]->(group);\n",
        "\n",
        "// If the relation already exists, use MERGE, otherwise it will be added twice\n",
        "match (job: Job), (group: Group)\n",
        "where job.ref in ['3000', '500'] and group.name ='G2'\n",
        "merge (job)-[r:Belongs_to]->(group)\n",
        "set r.name = 'dependancy'\n",
        "return job, group, r\n",
        "```\n",
        "\n",
        "```Cypher\n",
        "match (job: Job), (group: Group)\n",
        "where job.ref = '500' and job.type = 'dataset' and group.name ='G1'\n",
        "create (job)-[:Belongs_to]->(group);\n",
        "\n",
        "match (job: Job), (group: Group)\n",
        "where job.ref = '1000' and group.name ='G1'\n",
        "merge (job)-[:Belongs_to]->(group);\n",
        "```\n",
        "\n",
        "```Cypher\n",
        "match (job1: Job), (job2: Job)\n",
        "where job1.ref = job2.dq_ref and job1.type <> job2.type and job1.type IN ['dataset', 'lookup'] and job2.type = 'dq'\n",
        "merge (job1)-[:Linked]->(job2)\n",
        "```"
      ]
    },
    {
      "cell_type": "markdown",
      "metadata": {
        "id": "Jm6v_akt7n2b"
      },
      "source": [
        "## Update, add, remove a property\n",
        "\n",
        "```Cypher\n",
        "// Update a property\n",
        "match (job: Job)\n",
        "where job.dq_ref = '5014'\n",
        "set job.dependancy = True\n",
        "return job\n",
        "```\n",
        "\n",
        "```Cypher\n",
        "// Add a new property\n",
        "match (group: Group)\n",
        "set group: nb_dq\n",
        "return group\n",
        "```\n",
        "\n",
        "```Cypher\n",
        "// Remove a property\n",
        "match (job: Job)\n",
        "remove job.drop\n",
        "return job\n",
        "```\n"
      ]
    },
    {
      "cell_type": "markdown",
      "metadata": {
        "id": "Tv29_15nX78E"
      },
      "source": [
        "### Delete Graph\n",
        "\n",
        "```\n",
        "// Method 1: \n",
        "match (node)-[relation]-()\n",
        "delete node, relation\n",
        "\n",
        "match (node_without_relation)\n",
        "delete node_without_relation\n",
        "\n",
        "// Method 2\n",
        "match (node)\n",
        "optional match (node)-[relation]-()\n",
        "delete node, relation\n",
        "\n",
        "// Method 3\n",
        "match (node)\n",
        "detach delete node\n",
        "```"
      ]
    },
    {
      "cell_type": "markdown",
      "metadata": {
        "id": "jhEicsAuX7-y"
      },
      "source": [
        "### Degree, path, shortenpath\n",
        "\n",
        "```Cypher\n",
        "// Degree\n",
        "match path=((p:Person)-[:has_contact*3]->(other))\n",
        "return path\n",
        "limit 1\n",
        "```\n",
        "\n",
        "```Cypher\n",
        "// Path length\n",
        "match (p1: Person{name: 'Dehia'})\n",
        "match (p2: Person{name: 'Celia'})\n",
        "match path=((p1)-[:has_contact*]->(p2))\n",
        "return length(path) as path_length\n",
        "limit 1\n",
        "```\n",
        "\n",
        "```Cypher\n",
        "// Shorten path\n",
        "match (p1: Person{name: 'Dehia'})\n",
        "match (p2: Person{name: 'Celia'})\n",
        "match path = shortestPath((p1)-[:has_contact*..20]->(p2))\n",
        "return path, length(path) as path_length\n",
        "```\n",
        "\n",
        "```Cypher\n",
        "// all paths\n",
        "match (p1: Person{name: 'Dehia'})\n",
        "match (p2: Person{name: 'Celia'})\n",
        "match path = allShortestPaths((p1)-[:has_contact*..20]->(p2))\n",
        "return path, length(path) as path_length\n",
        "```\n",
        "\n"
      ]
    }
  ]
}